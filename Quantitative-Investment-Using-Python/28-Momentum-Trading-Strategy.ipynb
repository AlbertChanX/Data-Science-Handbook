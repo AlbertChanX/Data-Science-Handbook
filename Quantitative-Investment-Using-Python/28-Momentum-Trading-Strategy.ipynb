{
 "cells": [
  {
   "cell_type": "markdown",
   "metadata": {},
   "source": [
    "## Momentum Effect"
   ]
  },
  {
   "cell_type": "markdown",
   "metadata": {},
   "source": [
    "### reason\n",
    "* 反应不足  （弱者恒弱）\n",
    "* 正反馈模式 Herd Effect\n",
    "* 反应过度 over react"
   ]
  },
  {
   "cell_type": "markdown",
   "metadata": {},
   "source": [
    "### 做差法\n",
    "diff\n",
    "公式\n",
    "$$ Momentum_t = P_t - P_{t-m} $$\n",
    "$P_t$为股票t时期的价格， m为时间间隔， $P_{t-m}$ 为t-m时期的价格"
   ]
  },
  {
   "cell_type": "code",
   "execution_count": 1,
   "metadata": {},
   "outputs": [
    {
     "data": {
      "text/html": [
       "<div>\n",
       "<style scoped>\n",
       "    .dataframe tbody tr th:only-of-type {\n",
       "        vertical-align: middle;\n",
       "    }\n",
       "\n",
       "    .dataframe tbody tr th {\n",
       "        vertical-align: top;\n",
       "    }\n",
       "\n",
       "    .dataframe thead th {\n",
       "        text-align: right;\n",
       "    }\n",
       "</style>\n",
       "<table border=\"1\" class=\"dataframe\">\n",
       "  <thead>\n",
       "    <tr style=\"text-align: right;\">\n",
       "      <th></th>\n",
       "      <th>Open</th>\n",
       "      <th>High</th>\n",
       "      <th>Low</th>\n",
       "      <th>Close</th>\n",
       "      <th>Volume</th>\n",
       "    </tr>\n",
       "    <tr>\n",
       "      <th>Date</th>\n",
       "      <th></th>\n",
       "      <th></th>\n",
       "      <th></th>\n",
       "      <th></th>\n",
       "      <th></th>\n",
       "    </tr>\n",
       "  </thead>\n",
       "  <tbody>\n",
       "    <tr>\n",
       "      <th>2014-01-01</th>\n",
       "      <td>8.03</td>\n",
       "      <td>8.03</td>\n",
       "      <td>8.03</td>\n",
       "      <td>8.03</td>\n",
       "      <td>0</td>\n",
       "    </tr>\n",
       "    <tr>\n",
       "      <th>2014-01-02</th>\n",
       "      <td>7.99</td>\n",
       "      <td>8.07</td>\n",
       "      <td>7.92</td>\n",
       "      <td>7.99</td>\n",
       "      <td>48529900</td>\n",
       "    </tr>\n",
       "  </tbody>\n",
       "</table>\n",
       "</div>"
      ],
      "text/plain": [
       "            Open  High   Low  Close    Volume\n",
       "Date                                         \n",
       "2014-01-01  8.03  8.03  8.03   8.03         0\n",
       "2014-01-02  7.99  8.07  7.92   7.99  48529900"
      ]
     },
     "execution_count": 1,
     "metadata": {},
     "output_type": "execute_result"
    }
   ],
   "source": [
    "# 价格动量的计算\n",
    "\n",
    "import pandas as pd\n",
    "import matplotlib.pyplot as plt\n",
    "\n",
    "\n",
    "Vanke=pd.read_csv('part5/028/Vanke.csv')\n",
    "Vanke.index=Vanke.iloc[:,1]\n",
    "Vanke.index=pd.to_datetime(Vanke.index, format='%Y-%m-%d')\n",
    "Vanke=Vanke.iloc[:,2:]\n",
    "Vanke.head(2)\n"
   ]
  },
  {
   "cell_type": "code",
   "execution_count": 5,
   "metadata": {},
   "outputs": [
    {
     "data": {
      "text/plain": [
       "Date\n",
       "2014-01-01   NaN\n",
       "2014-01-02   NaN\n",
       "2014-01-03   NaN\n",
       "2014-01-06   NaN\n",
       "2014-01-07   NaN\n",
       "Name: Close, dtype: float64"
      ]
     },
     "execution_count": 5,
     "metadata": {},
     "output_type": "execute_result"
    }
   ],
   "source": [
    "# \n",
    "Close=Vanke.Close\n",
    "Close.describe()\n",
    "# 滞后5期的close\n",
    "lag5Close=Close.shift(5)\n",
    "lag5Close.head()"
   ]
  },
  {
   "cell_type": "code",
   "execution_count": 6,
   "metadata": {
    "scrolled": true
   },
   "outputs": [
    {
     "data": {
      "text/plain": [
       "Date\n",
       "2015-04-22    0.98\n",
       "2015-04-23    0.46\n",
       "2015-04-24   -0.25\n",
       "2015-04-27    0.49\n",
       "2015-04-28   -0.29\n",
       "Name: Close, dtype: float64"
      ]
     },
     "execution_count": 6,
     "metadata": {},
     "output_type": "execute_result"
    }
   ],
   "source": [
    "# 5日动量\n",
    "momentum5=Close-lag5Close\n",
    "momentum5.tail()"
   ]
  },
  {
   "cell_type": "code",
   "execution_count": 8,
   "metadata": {},
   "outputs": [
    {
     "data": {
      "text/plain": [
       "Text(0,0.5,'Momentum5')"
      ]
     },
     "execution_count": 8,
     "metadata": {},
     "output_type": "execute_result"
    },
    {
     "data": {
      "image/png": "[encoded data removed]",
      "text/plain": [
       "<matplotlib.figure.Figure at 0x25274f36ba8>"
      ]
     },
     "metadata": {},
     "output_type": "display_data"
    }
   ],
   "source": [
    "# close /5日动量曲线 \n",
    "plt.rcParams['font.sans-serif'] = ['SimHei']\n",
    "plt.subplot(211)\n",
    "plt.plot(Close,'b*')\n",
    "plt.xlabel('date')\n",
    "plt.ylabel('Close')\n",
    "plt.title('万科股价5日动量图')\n",
    "\n",
    "plt.subplot(212)\n",
    "plt.plot(Close,'r-*')\n",
    "plt.xlabel('date')\n",
    "plt.ylabel('Momentum5')\n"
   ]
  },
  {
   "cell_type": "markdown",
   "metadata": {},
   "source": [
    "### 做除法\n",
    "ROC (Rate of Change)\n",
    "$$ ROC_t = \\frac{P_t - P_{t-m}}{P_{t-m}}$$\n",
    "equal: $ ROC_t = \\frac{P_t}{P_{t-m}} -1 $"
   ]
  },
  {
   "cell_type": "code",
   "execution_count": 9,
   "metadata": {},
   "outputs": [
    {
     "data": {
      "text/plain": [
       "Date\n",
       "2014-01-08   -0.075965\n",
       "2014-01-09   -0.066333\n",
       "2014-01-10   -0.058673\n",
       "2014-01-13   -0.032086\n",
       "2014-01-14   -0.026918\n",
       "Name: Close, dtype: float64"
      ]
     },
     "execution_count": 9,
     "metadata": {},
     "output_type": "execute_result"
    }
   ],
   "source": [
    "#divide  5日动量值\n",
    "Momen5=Close/lag5Close-1\n",
    "Momen5=Momen5.dropna();\n",
    "Momen5[0:5]"
   ]
  },
  {
   "cell_type": "code",
   "execution_count": 10,
   "metadata": {
    "scrolled": true
   },
   "outputs": [
    {
     "data": {
      "text/plain": [
       "Date\n",
       "2015-04-22    0.98\n",
       "2015-04-23    0.46\n",
       "2015-04-24   -0.25\n",
       "2015-04-27    0.49\n",
       "2015-04-28   -0.29\n",
       "Name: Close, dtype: float64"
      ]
     },
     "execution_count": 10,
     "metadata": {},
     "output_type": "execute_result"
    }
   ],
   "source": [
    "#momentum function  (diff)\n",
    "def momentum(price, periond):\n",
    "    lagPrice=price.shift(periond)\n",
    "    momen=price-lagPrice\n",
    "    momen= momen.dropna()\n",
    "    return(momen)\n",
    "\n",
    "momentum(Close, 5).tail(n=5)"
   ]
  },
  {
   "cell_type": "markdown",
   "metadata": {},
   "source": [
    "Vanke 2015, **momen35**"
   ]
  },
  {
   "cell_type": "code",
   "execution_count": 12,
   "metadata": {},
   "outputs": [
    {
     "data": {
      "text/plain": [
       "Date\n",
       "2015-04-22    2.66\n",
       "2015-04-23    2.86\n",
       "2015-04-24    2.48\n",
       "2015-04-27    2.48\n",
       "2015-04-28    2.17\n",
       "Name: Close, dtype: float64"
      ]
     },
     "execution_count": 12,
     "metadata": {},
     "output_type": "execute_result"
    }
   ],
   "source": [
    "momen35=momentum(Close,35)\n",
    "momen35.tail()"
   ]
  },
  {
   "cell_type": "code",
   "execution_count": 19,
   "metadata": {},
   "outputs": [
    {
     "name": "stderr",
     "output_type": "stream",
     "text": [
      "D:\\Python36\\lib\\site-packages\\matplotlib\\cbook\\deprecation.py:106: MatplotlibDeprecationWarning: The finance module has been deprecated in mpl 2.0 and will be removed in mpl 2.2. Please use the module mpl_finance instead.\n",
      "  warnings.warn(message, mplDeprecation, stacklevel=1)\n"
     ]
    }
   ],
   "source": [
    "# %load part5/028/candle.py\n",
    "import pandas as pd\n",
    "import matplotlib.pyplot as plt\n",
    "from matplotlib.dates import DateFormatter, WeekdayLocator,\\\n",
    "    DayLocator, MONDAY,date2num\n",
    "from matplotlib.finance import  candlestick_ohlc\n",
    "import numpy as np\n",
    "\n",
    "\n",
    "def candlePlot(seriesData,title=\"a\"):\n",
    "\t#设定日期格式\n",
    "    Date=[date2num(date) for date in seriesData.index]\n",
    "    seriesData.loc[:,'Date']=Date\n",
    "    listData=[]\n",
    "    for i in range(len(seriesData)):\n",
    "        a=[seriesData.Date[i],\\\n",
    "        seriesData.Open[i],seriesData.High[i],\\\n",
    "        seriesData.Low[i],seriesData.Close[i]]\n",
    "        listData.append(a)\n",
    "\n",
    "\t#设定绘图相关参数\n",
    "    ax = plt.subplot()\n",
    "    mondays = WeekdayLocator(MONDAY)\n",
    "    #日期格式为‘15-Mar-09’形式\n",
    "    weekFormatter = DateFormatter('%y %b %d')\n",
    "    ax.xaxis.set_major_locator(mondays)\n",
    "    ax.xaxis.set_minor_locator(DayLocator())\n",
    "    ax.xaxis.set_major_formatter(weekFormatter)\n",
    "\n",
    "\t#调用candlestick_ohlc函数\n",
    "    candlestick_ohlc(ax,listData, width=0.7,\\\n",
    "                     colorup='r',colordown='g')\n",
    "    ax.set_title(title) #设定标题\n",
    "    #设定x轴日期显示角度\n",
    "    plt.setp(plt.gca().get_xticklabels(), \\\n",
    "    rotation=50,horizontalalignment='center')\n",
    "    return(plt.show())\n",
    "\n",
    "#蜡烛图与线图\n",
    "def candleLinePlots(candleData,candleTitle='a',**kwargs):\n",
    "    Date=[date2num(date) for date in candleData.index]\n",
    "    candleData.loc[:,'Date']=Date\n",
    "    listData=[]\n",
    "    for i in range(len(candleData)):\n",
    "        a=[candleData.Date[i],\\\n",
    "        candleData.Open[i],candleData.High[i],\\\n",
    "        candleData.Low[i],candleData.Close[i]]\n",
    "        listData.append(a)\n",
    "    \n",
    "    #如果不定长参数无取值，只画蜡烛图\n",
    "    ax = plt.subplot()\n",
    "\n",
    "\t#如果不定长参数有值，则分成两个子图\n",
    "    flag=0\n",
    "\n",
    "    if kwargs:\n",
    "        for key in kwargs:\n",
    "    #如果无参数splitFigures，则只画一个图形框\n",
    "    #如果有参数splitFigures，则画出两个图形框\n",
    "            if key =='splitFigures':\n",
    "                ax = plt.subplot(211)\n",
    "                ax2= plt.subplot(212)\n",
    "                flag=1\n",
    "            \n",
    "            if key=='title':\n",
    "                ax2.set_title(kwargs[key])\n",
    "            if key=='ylabel':\n",
    "                ax2.set_ylabel(kwargs[key])\n",
    "            if key=='grid':\n",
    "                ax2.grid(kwargs[key])\n",
    "            if key =='Data':\n",
    "                plt.sca(ax)\n",
    "                if flag:\n",
    "                    plt.sca(ax2)\n",
    "                    #一维数据\n",
    "                if kwargs[key].ndim==1:\n",
    "                    plt.plot(kwargs[key],\\\n",
    "                       color='k',\\\n",
    "                       label=kwargs[key].name)\n",
    "                    plt.legend(loc='best')\n",
    "                    #二维数据有2个columns\n",
    "                elif all([kwargs[key].ndim==2,\\\n",
    "                         len(kwargs[key].columns)==2]):\n",
    "                    plt.plot(kwargs[key].iloc[:,0],\\\n",
    "                        linestyle='dashed',\\\n",
    "                        label=kwargs[key].iloc[:,0].name)\n",
    "                    plt.plot(kwargs[key].iloc[:,1],\\\n",
    "                        linestyle='dashed',\\\n",
    "                        label=kwargs[key].iloc[:,1].name)\n",
    "                    plt.legend(loc='best')\n",
    "                    #二维数据有3个columns\n",
    "                elif all([kwargs[key].ndim==2,\\\n",
    "                         len(kwargs[key].columns)==3]):\n",
    "                    plt.plot(kwargs[key].iloc[:,0],\\\n",
    "                        linestyle='dashed',\\\n",
    "                        label=kwargs[key].iloc[:,0].name)\n",
    "                    plt.plot(kwargs[key].iloc[:,1],\\\n",
    "                        linestyle='dashed',\\\n",
    "                        label=kwargs[key].iloc[:,1].name)\n",
    "                    plt.bar(left=kwargs[key].iloc[:,2].index,\\\n",
    "                        height=kwargs[key].iloc[:,2],\\\n",
    "                        color='r',\\\n",
    "                        label=kwargs[key].iloc[:,2].name)\n",
    "                    plt.legend(loc='best')\n",
    "\n",
    "\n",
    "    mondays = WeekdayLocator(MONDAY)\n",
    "    weekFormatter = DateFormatter('%y %b %d')\n",
    "    ax.xaxis.set_major_locator(mondays)\n",
    "    ax.xaxis.set_minor_locator(DayLocator())\n",
    "    ax.xaxis.set_major_formatter(weekFormatter)\n",
    "    plt.sca(ax)\n",
    "    candlestick_ohlc(ax,listData, width=0.7,\\\n",
    "                     colorup='r',colordown='g')\n",
    "    ax.set_title(candleTitle)\n",
    "    plt.setp(ax.get_xticklabels(),\\\n",
    "             rotation=45,\\\n",
    "             horizontalalignment='center')\n",
    "    #ax.autoscale_view()\n",
    "    plt.show()\n",
    "    return(1)\n",
    "\n",
    "#蜡烛图与成交量柱状图\n",
    "def candleVolume(seriesData,candletitle='a',bartitle='b'):\n",
    "    Date=[date2num(date) for date in seriesData.index]\n",
    "    seriesData.index=list(range(len(Date)))\n",
    "    seriesData['Date']=Date\n",
    "    listData=zip(seriesData.Date,seriesData.Open,seriesData.High,seriesData.Low,\n",
    "                 seriesData.Close)\n",
    "    ax1 = plt.subplot(211)\n",
    "    ax2 = plt.subplot(212)\n",
    "    for ax in ax1,ax2:\n",
    "        mondays = WeekdayLocator(MONDAY)\n",
    "        weekFormatter = DateFormatter('%m/%d/%Y')\n",
    "        ax.xaxis.set_major_locator(mondays)\n",
    "        ax.xaxis.set_minor_locator(DayLocator())\n",
    "        ax.xaxis.set_major_formatter(weekFormatter)\n",
    "        ax.grid(True)\n",
    "\n",
    "    ax1.set_ylim(seriesData.Low.min()-2,seriesData.High.max()+2)\n",
    "    ax1.set_ylabel('蜡烛图及收盘价线')\n",
    "    candlestick_ohlc(ax1,listData, width=0.7,colorup='r',colordown='g')\n",
    "    plt.setp(plt.gca().get_xticklabels(),\\\n",
    "            rotation=45,horizontalalignment='center')\n",
    "    ax1.autoscale_view()\n",
    "    ax1.set_title(candletitle)\n",
    "    ax1.plot(seriesData.Date,seriesData.Close,\\\n",
    "               color='black',label='收盘价')\n",
    "    ax1.legend(loc='best')\n",
    "\n",
    "    ax2.set_ylabel('成交量')\n",
    "    ax2.set_ylim(0,seriesData.Volume.max()*3)\n",
    "    ax2.bar(np.array(Date)[np.array(seriesData.Close>=seriesData.Open)]\n",
    "    ,height=seriesData.iloc[:,4][np.array(seriesData.Close>=seriesData.Open)]\n",
    "    ,color='r',align='center')\n",
    "    ax2.bar(np.array(Date)[np.array(seriesData.Close<seriesData.Open)]\n",
    "    ,height=seriesData.iloc[:,4][np.array(seriesData.Close<seriesData.Open)]\n",
    "    ,color='g',align='center')\n",
    "    ax2.set_title(bartitle)\n",
    "    return(plt.show())"
   ]
  },
  {
   "cell_type": "code",
   "execution_count": 20,
   "metadata": {},
   "outputs": [
    {
     "name": "stderr",
     "output_type": "stream",
     "text": [
      "D:\\Python36\\lib\\site-packages\\pandas\\core\\indexing.py:357: SettingWithCopyWarning: \n",
      "A value is trying to be set on a copy of a slice from a DataFrame.\n",
      "Try using .loc[row_indexer,col_indexer] = value instead\n",
      "\n",
      "See the caveats in the documentation: http://pandas.pydata.org/pandas-docs/stable/indexing.html#indexing-view-versus-copy\n",
      "  self.obj[key] = _infer_fill_value(value)\n",
      "D:\\Python36\\lib\\site-packages\\pandas\\core\\indexing.py:537: SettingWithCopyWarning: \n",
      "A value is trying to be set on a copy of a slice from a DataFrame.\n",
      "Try using .loc[row_indexer,col_indexer] = value instead\n",
      "\n",
      "See the caveats in the documentation: http://pandas.pydata.org/pandas-docs/stable/indexing.html#indexing-view-versus-copy\n",
      "  self.obj[item] = s\n"
     ]
    },
    {
     "data": {
      "image/png": "[encoded data removed]",
      "text/plain": [
       "<matplotlib.figure.Figure at 0x25275084358>"
      ]
     },
     "metadata": {},
     "output_type": "display_data"
    },
    {
     "data": {
      "text/plain": [
       "1"
      ]
     },
     "execution_count": 20,
     "metadata": {},
     "output_type": "execute_result"
    }
   ],
   "source": [
    "# call\n",
    "# import candle\n",
    "Vanke15=Vanke['2015']\n",
    "candleLinePlots(Vanke['2015'],\\\n",
    "               candleTitle='Vanke2015年日K线图',\\\n",
    "               splitFigures=True,Data=momen35['2015'],\\\n",
    "               title='35日动量',ylabel='35日动量')"
   ]
  },
  {
   "cell_type": "markdown",
   "metadata": {},
   "source": [
    "## Thinking in Momentum Trading"
   ]
  },
  {
   "cell_type": "markdown",
   "metadata": {},
   "source": [
    "1. get the data (close price of stock)\n",
    "2. 确定时间跨度(Period)和动量表达式(diff or divide)\n",
    "3. 根据动量指标制定交易策略； 在动量指标运用上， 通常动量>0,说明还有上涨潜能，-->buy signal\n",
    "instead, --> sell.\n",
    "4. backtest & evaluate"
   ]
  },
  {
   "cell_type": "markdown",
   "metadata": {},
   "source": [
    "** 运用动量指标进行交易\n",
    "\n",
    "动量值的大小与时间跨度(m)有很大关系。\n",
    "如何设定m。   假设m=35\n",
    "\n",
    "> 实际上，在投资实战中，投资者会综合多种指标和形态来确定买入点和卖出点。\n",
    "这里值依靠动量指标。"
   ]
  },
  {
   "cell_type": "code",
   "execution_count": 21,
   "metadata": {},
   "outputs": [
    {
     "data": {
      "text/plain": [
       "Date\n",
       "2014-02-20   -0.71\n",
       "2014-02-21   -0.83\n",
       "2014-02-24   -1.15\n",
       "2014-02-25   -0.91\n",
       "2014-02-26   -0.75\n",
       "Name: Close, dtype: float64"
      ]
     },
     "execution_count": 21,
     "metadata": {},
     "output_type": "execute_result"
    }
   ],
   "source": [
    "# 1. 计算动量\n",
    "Close=Vanke.Close\n",
    "momen35=momentum(Close,35)\n",
    "momen35.head()"
   ]
  },
  {
   "cell_type": "code",
   "execution_count": 22,
   "metadata": {},
   "outputs": [
    {
     "data": {
      "text/plain": [
       "Date\n",
       "2014-02-20   -1\n",
       "2014-02-21   -1\n",
       "2014-02-24   -1\n",
       "2014-02-25   -1\n",
       "2014-02-26   -1\n",
       "dtype: int64"
      ]
     },
     "execution_count": 22,
     "metadata": {},
     "output_type": "execute_result"
    }
   ],
   "source": [
    "# 动量值<0时， signal=-1 sell\n",
    "signal=[]\n",
    "for i in momen35:\n",
    "    if i>0:\n",
    "        signal.append(1)\n",
    "    else:\n",
    "        signal.append(-1)\n",
    "\n",
    "signal=pd.Series(signal,index=momen35.index)\n",
    "signal.head()"
   ]
  },
  {
   "cell_type": "code",
   "execution_count": 50,
   "metadata": {
    "scrolled": false
   },
   "outputs": [
    {
     "data": {
      "text/plain": [
       "Date\n",
       "2014-02-21    0.021858\n",
       "2014-02-24    0.065642\n",
       "2014-02-25    0.017937\n",
       "2014-02-26   -0.016743\n",
       "2014-02-27    0.013473\n",
       "dtype: float64"
      ]
     },
     "execution_count": 50,
     "metadata": {},
     "output_type": "execute_result"
    }
   ],
   "source": [
    "# 3. 根据signal 买卖， 计算收益率\n",
    "tradeSig = signal.shift(1)\n",
    "ret=Close/Close.shift(1)-1\n",
    "# ret=ret['2014-02-20':]\n",
    "# ret.head(n=3)\n",
    "Mom35Ret=(ret*(tradeSig)).dropna()\n",
    "Mom35Ret[0:5]"
   ]
  },
  {
   "cell_type": "code",
   "execution_count": 49,
   "metadata": {
    "scrolled": true
   },
   "outputs": [
    {
     "data": {
      "text/plain": [
       "0.5211267605633803"
      ]
     },
     "execution_count": 49,
     "metadata": {},
     "output_type": "execute_result"
    }
   ],
   "source": [
    "# 策略评价\n",
    "# 计算交易指标获胜率\n",
    "# real_Mom35Ret=Mom35Ret[Mom35Ret!=0]\n",
    "# real_ret=ret[ret!=0]\n",
    "# real_ret.head()\n",
    "import numpy as np\n",
    "Mom35Ret[Mom35Ret==np.NaN] = 0\n",
    "win=Mom35Ret[Mom35Ret>0]\n",
    "# print(len(win))\n",
    "winrate=len(win)/len(Mom35Ret[Mom35Ret!=0])\n",
    "winrate"
   ]
  },
  {
   "cell_type": "code",
   "execution_count": 26,
   "metadata": {},
   "outputs": [
    {
     "data": {
      "image/png": "[encoded data removed]",
      "text/plain": [
       "<matplotlib.figure.Figure at 0x25278591e80>"
      ]
     },
     "metadata": {},
     "output_type": "display_data"
    }
   ],
   "source": [
    "# 绘制股票收益率与动量指标交易策略收益率的时序图\n",
    "plt.rcParams['font.sans-serif'] = ['SimHei']\n",
    "plt.rcParams['axes.unicode_minus'] = False\n",
    "plt.subplot(2,1,1)\n",
    "plt.plot(real_ret,'b')\n",
    "plt.ylabel('return')\n",
    "plt.title('万科收益率时序图')\n",
    "\n",
    "plt.subplot(2,1,2)\n",
    "plt.plot(Mom35Ret,'r')\n",
    "plt.ylabel('Mom35Ret')\n",
    "plt.title('万科动量交易收益率时序图')\n",
    "plt.show()"
   ]
  },
  {
   "cell_type": "code",
   "execution_count": 29,
   "metadata": {},
   "outputs": [
    {
     "data": {
      "text/plain": [
       "Text(0.5,1,'损失直方图')"
      ]
     },
     "execution_count": 29,
     "metadata": {},
     "output_type": "execute_result"
    },
    {
     "data": {
      "image/png": "[encoded data removed]",
      "text/plain": [
       "<matplotlib.figure.Figure at 0x252758eb7b8>"
      ]
     },
     "metadata": {},
     "output_type": "display_data"
    }
   ],
   "source": [
    "# loss\n",
    "loss=-Mom35Ret[Mom35Ret<0]\n",
    "plt.subplot(2,1,1)\n",
    "win.hist()\n",
    "plt.title(\"盈利直方图\")\n",
    "\n",
    "plt.subplot(2,1,2)\n",
    "loss.hist()\n",
    "plt.title(\"损失直方图\")"
   ]
  },
  {
   "cell_type": "code",
   "execution_count": 31,
   "metadata": {},
   "outputs": [
    {
     "data": {
      "text/html": [
       "<div>\n",
       "<style scoped>\n",
       "    .dataframe tbody tr th:only-of-type {\n",
       "        vertical-align: middle;\n",
       "    }\n",
       "\n",
       "    .dataframe tbody tr th {\n",
       "        vertical-align: top;\n",
       "    }\n",
       "\n",
       "    .dataframe thead th {\n",
       "        text-align: right;\n",
       "    }\n",
       "</style>\n",
       "<table border=\"1\" class=\"dataframe\">\n",
       "  <thead>\n",
       "    <tr style=\"text-align: right;\">\n",
       "      <th></th>\n",
       "      <th>loss</th>\n",
       "      <th>win</th>\n",
       "    </tr>\n",
       "  </thead>\n",
       "  <tbody>\n",
       "    <tr>\n",
       "      <th>count</th>\n",
       "      <td>136.000000</td>\n",
       "      <td>148.000000</td>\n",
       "    </tr>\n",
       "    <tr>\n",
       "      <th>mean</th>\n",
       "      <td>0.018514</td>\n",
       "      <td>0.018646</td>\n",
       "    </tr>\n",
       "    <tr>\n",
       "      <th>std</th>\n",
       "      <td>0.015860</td>\n",
       "      <td>0.018261</td>\n",
       "    </tr>\n",
       "    <tr>\n",
       "      <th>min</th>\n",
       "      <td>0.000805</td>\n",
       "      <td>0.000769</td>\n",
       "    </tr>\n",
       "    <tr>\n",
       "      <th>25%</th>\n",
       "      <td>0.008214</td>\n",
       "      <td>0.005472</td>\n",
       "    </tr>\n",
       "    <tr>\n",
       "      <th>50%</th>\n",
       "      <td>0.015996</td>\n",
       "      <td>0.013444</td>\n",
       "    </tr>\n",
       "    <tr>\n",
       "      <th>75%</th>\n",
       "      <td>0.022360</td>\n",
       "      <td>0.024786</td>\n",
       "    </tr>\n",
       "    <tr>\n",
       "      <th>max</th>\n",
       "      <td>0.099852</td>\n",
       "      <td>0.099684</td>\n",
       "    </tr>\n",
       "  </tbody>\n",
       "</table>\n",
       "</div>"
      ],
      "text/plain": [
       "             loss         win\n",
       "count  136.000000  148.000000\n",
       "mean     0.018514    0.018646\n",
       "std      0.015860    0.018261\n",
       "min      0.000805    0.000769\n",
       "25%      0.008214    0.005472\n",
       "50%      0.015996    0.013444\n",
       "75%      0.022360    0.024786\n",
       "max      0.099852    0.099684"
      ]
     },
     "execution_count": 31,
     "metadata": {},
     "output_type": "execute_result"
    }
   ],
   "source": [
    "# 计算两种收益率的mean和分位数值\n",
    "performance=pd.DataFrame({\"win\":win.describe(),\\\n",
    "\"loss\":loss.describe()})\n",
    "performance"
   ]
  }
 ],
 "metadata": {
  "kernelspec": {
   "display_name": "Python 3",
   "language": "python",
   "name": "python3"
  },
  "language_info": {
   "codemirror_mode": {
    "name": "ipython",
    "version": 3
   },
   "file_extension": ".py",
   "mimetype": "text/x-python",
   "name": "python",
   "nbconvert_exporter": "python",
   "pygments_lexer": "ipython3",
   "version": "3.6.4"
  }
 },
 "nbformat": 4,
 "nbformat_minor": 2
}
