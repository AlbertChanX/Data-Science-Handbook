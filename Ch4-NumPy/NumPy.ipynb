{
 "cells": [
  {
   "cell_type": "markdown",
   "metadata": {},
   "source": [
    "# Profile\n",
    "\n",
    "**NumPy**之于数值计算特别重要的原因之一，是因为它可以高效处理大数组的数据。这是因为：\n",
    "\n",
    "* NumPy是在一个连续的内存块中存储数据，独立于其他Python内置对象。NumPy的`C语言`编写的算法库可以操作内存，而不必进行类型检查或其它前期工作。比起Python的内置序列，NumPy数组使用的内存更少。\n",
    "* NumPy可以在整个数组上执行复杂的计算，而不需要Python的for循环。\n",
    "要搞明白具体的性能差距，考察一个包含一百万整数的数组，和一个等价的Python列表：\n"
   ]
  },
  {
   "cell_type": "code",
   "execution_count": 7,
   "metadata": {},
   "outputs": [],
   "source": [
    "import numpy as np\n",
    "my_arr = np.arange(1000000)\n",
    "my_list = list(range(1000000))\n"
   ]
  },
  {
   "cell_type": "code",
   "execution_count": 8,
   "metadata": {},
   "outputs": [
    {
     "name": "stdout",
     "output_type": "stream",
     "text": [
      "Wall time: 36 ms\n"
     ]
    }
   ],
   "source": [
    "%time for _ in range(10): my_arr2 = my_arr * 2"
   ]
  },
  {
   "cell_type": "code",
   "execution_count": 9,
   "metadata": {},
   "outputs": [
    {
     "name": "stdout",
     "output_type": "stream",
     "text": [
      "Wall time: 832 ms\n"
     ]
    }
   ],
   "source": [
    " %time for _ in range(10): my_list2 = [x * 2 for x in my_list]"
   ]
  },
  {
   "cell_type": "markdown",
   "metadata": {},
   "source": [
    "## 4.1 NumPy的ndarray：一种多维数组对象\n",
    "\n",
    "NumPy最重要的一个特点就是其`N维数组对象`（即*ndarray*），该对象是一个快速而灵活的大数据集容器。你可以利用这种数组对整块数据执行一些数学运算，其语法跟标量元素之间的运算一样。\n",
    "\n",
    "Python是如何利用与`标量值`类似的语法进行批次计算?"
   ]
  },
  {
   "cell_type": "code",
   "execution_count": 10,
   "metadata": {},
   "outputs": [
    {
     "data": {
      "text/plain": [
       "array([[-1.53714201,  1.89816175, -0.85632408],\n",
       "       [-0.50756988,  0.60757962, -0.45953449]])"
      ]
     },
     "execution_count": 10,
     "metadata": {},
     "output_type": "execute_result"
    }
   ],
   "source": [
    "import numpy as np\n",
    "# 2 rows 3 columns\n",
    "data = np.random.randn(2, 3)\n",
    "\n",
    "data"
   ]
  },
  {
   "cell_type": "code",
   "execution_count": 11,
   "metadata": {},
   "outputs": [
    {
     "data": {
      "text/plain": [
       "array([[-15.37142008,  18.98161754,  -8.56324079],\n",
       "       [ -5.07569882,   6.07579617,  -4.59534486]])"
      ]
     },
     "execution_count": 11,
     "metadata": {},
     "output_type": "execute_result"
    }
   ],
   "source": [
    "data * 10"
   ]
  },
  {
   "cell_type": "code",
   "execution_count": 12,
   "metadata": {},
   "outputs": [
    {
     "data": {
      "text/plain": [
       "array([[-3.07428402,  3.79632351, -1.71264816],\n",
       "       [-1.01513976,  1.21515923, -0.91906897]])"
      ]
     },
     "execution_count": 12,
     "metadata": {},
     "output_type": "execute_result"
    }
   ],
   "source": [
    "data + data"
   ]
  },
  {
   "cell_type": "code",
   "execution_count": null,
   "metadata": {},
   "outputs": [],
   "source": []
  },
  {
   "cell_type": "markdown",
   "metadata": {},
   "source": [
    "**ndarray**是一个通用的同构数据多维容器，也就是说，其中的所有元素必须是相同类型的。\n",
    "每个数组都有一个**shape**（一个表示各维度大小的`元组`）和\n",
    "一个**dtype**（一个用于说明数组`数据类型`的对象）："
   ]
  },
  {
   "cell_type": "code",
   "execution_count": 13,
   "metadata": {},
   "outputs": [
    {
     "data": {
      "text/plain": [
       "(2, 3)"
      ]
     },
     "execution_count": 13,
     "metadata": {},
     "output_type": "execute_result"
    }
   ],
   "source": [
    "data.shape"
   ]
  },
  {
   "cell_type": "code",
   "execution_count": 14,
   "metadata": {},
   "outputs": [
    {
     "data": {
      "text/plain": [
       "dtype('float64')"
      ]
     },
     "execution_count": 14,
     "metadata": {},
     "output_type": "execute_result"
    }
   ],
   "source": [
    "data.dtype"
   ]
  },
  {
   "cell_type": "markdown",
   "metadata": {},
   "source": [
    "> 精通`面向数组`的编程和思维方式是成为Python科学计算牛人的一大关键步骤。\n",
    "“数组”、“NumPy数组”、\"ndarray\"时，基本上都指的是同一样东西，即ndarray对象。"
   ]
  },
  {
   "cell_type": "markdown",
   "metadata": {},
   "source": [
    "### 创建ndarray\n",
    "创建数组最简单的办法就是使用`array`函数。它接受一切序列型的对象（包括其他数组），\n",
    "然后产生一个新的含有传入数据的NumPy数组。以一个列表的转换为例："
   ]
  },
  {
   "cell_type": "code",
   "execution_count": 15,
   "metadata": {},
   "outputs": [
    {
     "data": {
      "text/plain": [
       "array([6. , 7.5, 8. , 0. , 1. ])"
      ]
     },
     "execution_count": 15,
     "metadata": {},
     "output_type": "execute_result"
    }
   ],
   "source": [
    "data1 = [6, 7.5, 8, 0, 1]\n",
    "\n",
    "arr1 = np.array(data1)\n",
    "\n",
    "arr1"
   ]
  },
  {
   "cell_type": "markdown",
   "metadata": {},
   "source": [
    "**嵌套序列**（比如由一组等长列表组成的列表）将会被转换为一个`多维数组`："
   ]
  },
  {
   "cell_type": "code",
   "execution_count": 16,
   "metadata": {},
   "outputs": [
    {
     "data": {
      "text/plain": [
       "array([[1, 2, 3, 4],\n",
       "       [5, 6, 7, 8]])"
      ]
     },
     "execution_count": 16,
     "metadata": {},
     "output_type": "execute_result"
    }
   ],
   "source": [
    "data2 = [[1, 2, 3, 4], [5, 6, 7, 8]]\n",
    "\n",
    "arr2 = np.array(data2)\n",
    "\n",
    "arr2"
   ]
  },
  {
   "cell_type": "markdown",
   "metadata": {},
   "source": [
    "NumPy数组arr2的两个维度的shape是从data2引入的。可以用属性ndim和shape验证："
   ]
  },
  {
   "cell_type": "code",
   "execution_count": 17,
   "metadata": {},
   "outputs": [
    {
     "data": {
      "text/plain": [
       "2"
      ]
     },
     "execution_count": 17,
     "metadata": {},
     "output_type": "execute_result"
    }
   ],
   "source": [
    "arr2.ndim"
   ]
  },
  {
   "cell_type": "code",
   "execution_count": 18,
   "metadata": {},
   "outputs": [
    {
     "data": {
      "text/plain": [
       "(2, 4)"
      ]
     },
     "execution_count": 18,
     "metadata": {},
     "output_type": "execute_result"
    }
   ],
   "source": [
    "arr2.shape"
   ]
  },
  {
   "cell_type": "markdown",
   "metadata": {},
   "source": [
    "np.array会尝试为新建的这个数组推断出一个较为合适的数据类型。\n",
    "数据类型保存在一个特殊的`dtype`对象中。比如说，在上面的两个例子中，我们有："
   ]
  },
  {
   "cell_type": "code",
   "execution_count": 19,
   "metadata": {},
   "outputs": [
    {
     "data": {
      "text/plain": [
       "dtype('float64')"
      ]
     },
     "execution_count": 19,
     "metadata": {},
     "output_type": "execute_result"
    }
   ],
   "source": [
    "arr1.dtype"
   ]
  },
  {
   "cell_type": "code",
   "execution_count": 20,
   "metadata": {},
   "outputs": [
    {
     "data": {
      "text/plain": [
       "dtype('int32')"
      ]
     },
     "execution_count": 20,
     "metadata": {},
     "output_type": "execute_result"
    }
   ],
   "source": [
    "arr2.dtype"
   ]
  },
  {
   "cell_type": "markdown",
   "metadata": {},
   "source": [
    "zeros和ones分别可以创建指定长度或形状的全0或全1数组。\n",
    "`empty`可以创建一个没有任何具体值的数组。\n",
    "要用这些方法创建多维数组，只需传入一个表示形状的元组(m, n)即可："
   ]
  },
  {
   "cell_type": "code",
   "execution_count": 21,
   "metadata": {},
   "outputs": [
    {
     "data": {
      "text/plain": [
       "array([0., 0., 0., 0., 0., 0., 0., 0., 0., 0.])"
      ]
     },
     "execution_count": 21,
     "metadata": {},
     "output_type": "execute_result"
    }
   ],
   "source": [
    "np.zeros(10)"
   ]
  },
  {
   "cell_type": "code",
   "execution_count": 22,
   "metadata": {},
   "outputs": [
    {
     "data": {
      "text/plain": [
       "array([[0., 0., 0., 0., 0.],\n",
       "       [0., 0., 0., 0., 0.],\n",
       "       [0., 0., 0., 0., 0.]])"
      ]
     },
     "execution_count": 22,
     "metadata": {},
     "output_type": "execute_result"
    }
   ],
   "source": [
    "np.zeros((3, 5))"
   ]
  },
  {
   "cell_type": "code",
   "execution_count": 23,
   "metadata": {},
   "outputs": [
    {
     "data": {
      "text/plain": [
       "array([[[0., 0.],\n",
       "        [0., 0.],\n",
       "        [0., 0.]],\n",
       "\n",
       "       [[0., 0.],\n",
       "        [0., 0.],\n",
       "        [0., 0.]]])"
      ]
     },
     "execution_count": 23,
     "metadata": {},
     "output_type": "execute_result"
    }
   ],
   "source": [
    "np.empty((2, 3, 2))"
   ]
  },
  {
   "cell_type": "markdown",
   "metadata": {},
   "source": [
    "> 注意：认为np.empty会返回全0数组的想法是不安全的。\n",
    "很多情况下（如前所示），它返回的都是一些**未初始化**的垃圾值。"
   ]
  },
  {
   "cell_type": "code",
   "execution_count": 24,
   "metadata": {},
   "outputs": [
    {
     "data": {
      "text/plain": [
       "array([ 0,  1,  2,  3,  4,  5,  6,  7,  8,  9, 10, 11, 12, 13, 14])"
      ]
     },
     "execution_count": 24,
     "metadata": {},
     "output_type": "execute_result"
    }
   ],
   "source": [
    "# arange是Python内置函数range的数组版：\n",
    "np.arange(15)"
   ]
  },
  {
   "cell_type": "markdown",
   "metadata": {},
   "source": [
    "表4-1列出了一些数组创建函数。由于NumPy关注的是数值计算，因此，如果没有特别指定，数据类型基本都是`float64`（浮点数）。\n",
    "![4-1](https://upload-images.jianshu.io/upload_images/7178691-78ab11f67e7077a6.png?imageMogr2/auto-orient/strip%7CimageView2/2/w/696)"
   ]
  },
  {
   "cell_type": "markdown",
   "metadata": {},
   "source": [
    "### ndarray的数据类型\n",
    "dtype（数据类型）是一个特殊的对象，它含有ndarray将一块内存解释为特定数据类型所需的信息："
   ]
  },
  {
   "cell_type": "code",
   "execution_count": 26,
   "metadata": {},
   "outputs": [
    {
     "data": {
      "text/plain": [
       "dtype('float64')"
      ]
     },
     "execution_count": 26,
     "metadata": {},
     "output_type": "execute_result"
    }
   ],
   "source": [
    "arr1 = np.array([1, 2, 3], dtype=np.float64)\n",
    "\n",
    "arr2 = np.array([1, 2, 3], dtype=np.int32)\n",
    "\n",
    "arr1.dtype"
   ]
  },
  {
   "cell_type": "code",
   "execution_count": 27,
   "metadata": {},
   "outputs": [
    {
     "data": {
      "text/plain": [
       "dtype('int32')"
      ]
     },
     "execution_count": 27,
     "metadata": {},
     "output_type": "execute_result"
    }
   ],
   "source": [
    "arr2.dtype"
   ]
  },
  {
   "cell_type": "markdown",
   "metadata": {},
   "source": [
    "数值型dtype的命名方式相同：一个类型名（如float或int），后面跟一个用于表示各元素位长的数字。\n",
    "标准的双精度浮点值（即Python中的float对象）需要占用`8字节`（即64位）。因此，该类型在NumPy中就记作**float64**。\n",
    "表4-2列出了NumPy所支持的全部数据类型。\n",
    "\n",
    "![4-2](https://upload-images.jianshu.io/upload_images/7178691-2f2d7406a8bc076c.png?imageMogr2/auto-orient/strip%7CimageView2/2/w/700)"
   ]
  },
  {
   "cell_type": "code",
   "execution_count": 28,
   "metadata": {},
   "outputs": [
    {
     "data": {
      "text/plain": [
       "dtype('int32')"
      ]
     },
     "execution_count": 28,
     "metadata": {},
     "output_type": "execute_result"
    }
   ],
   "source": [
    "# change dtype\n",
    "arr = np.array([1, 2, 3, 4, 5])\n",
    "arr.dtype"
   ]
  },
  {
   "cell_type": "code",
   "execution_count": 30,
   "metadata": {},
   "outputs": [
    {
     "data": {
      "text/plain": [
       "dtype('float64')"
      ]
     },
     "execution_count": 30,
     "metadata": {},
     "output_type": "execute_result"
    }
   ],
   "source": [
    "float_arr = arr.astype(np.float64)\n",
    "float_arr.dtype"
   ]
  },
  {
   "cell_type": "code",
   "execution_count": 31,
   "metadata": {},
   "outputs": [
    {
     "data": {
      "text/plain": [
       "array([ 3, -1, -2,  0, 12, 10])"
      ]
     },
     "execution_count": 31,
     "metadata": {},
     "output_type": "execute_result"
    }
   ],
   "source": [
    "# if u transform float to int\n",
    "arr = np.array([3.7, -1.2, -2.6, 0.5, 12.9, 10.1])\n",
    "\n",
    "arr.astype(np.int32)"
   ]
  },
  {
   "cell_type": "code",
   "execution_count": 32,
   "metadata": {},
   "outputs": [
    {
     "data": {
      "text/plain": [
       "array([ 1.25, -9.6 , 42.  ])"
      ]
     },
     "execution_count": 32,
     "metadata": {},
     "output_type": "execute_result"
    }
   ],
   "source": [
    "# string to numer\n",
    "numeric_strings = np.array(['1.25', '-9.6', '42'], dtype=np.string_)\n",
    "# NumPy很聪明，它会将Python类型映射到等价的dtype上。  np.float64\n",
    "numeric_strings.astype(float)"
   ]
  },
  {
   "cell_type": "code",
   "execution_count": 34,
   "metadata": {},
   "outputs": [
    {
     "data": {
      "text/plain": [
       "array([b'1.25', b'-9.6', b'42'], dtype='|S4')"
      ]
     },
     "execution_count": 34,
     "metadata": {},
     "output_type": "execute_result"
    }
   ],
   "source": [
    "# astype return a new array\n",
    "numeric_strings"
   ]
  },
  {
   "cell_type": "code",
   "execution_count": 33,
   "metadata": {},
   "outputs": [
    {
     "data": {
      "text/plain": [
       "array([         0, 1075314688,          0, 1075707904,          0,\n",
       "       1075838976,          0, 1072693248], dtype=uint32)"
      ]
     },
     "execution_count": 33,
     "metadata": {},
     "output_type": "execute_result"
    }
   ],
   "source": [
    "# 表示 dtype  u 无符号整数 4 bytes\n",
    "empty_uint32 = np.empty(8, dtype='u4')\n",
    "\n",
    "empty_uint32"
   ]
  },
  {
   "cell_type": "markdown",
   "metadata": {},
   "source": [
    "### NumPy数组的运算\n",
    "\n",
    "NumPy用户称其为**矢量化**（vectorization）。\n",
    "大小相等的数组之间的任何算术运算都会将运算应用到元素级："
   ]
  },
  {
   "cell_type": "code",
   "execution_count": 35,
   "metadata": {},
   "outputs": [
    {
     "data": {
      "text/plain": [
       "array([[ 1.,  4.,  9.],\n",
       "       [16., 25., 36.]])"
      ]
     },
     "execution_count": 35,
     "metadata": {},
     "output_type": "execute_result"
    }
   ],
   "source": [
    "arr = np.array([[1., 2., 3.], [4., 5., 6.]])\n",
    "\n",
    "arr * arr"
   ]
  },
  {
   "cell_type": "code",
   "execution_count": 36,
   "metadata": {},
   "outputs": [
    {
     "data": {
      "text/plain": [
       "array([[0., 0., 0.],\n",
       "       [0., 0., 0.]])"
      ]
     },
     "execution_count": 36,
     "metadata": {},
     "output_type": "execute_result"
    }
   ],
   "source": [
    "arr - arr"
   ]
  },
  {
   "cell_type": "markdown",
   "metadata": {},
   "source": [
    "数组与`标量`的算术运算会将标量值传播到各个元素："
   ]
  },
  {
   "cell_type": "code",
   "execution_count": 37,
   "metadata": {},
   "outputs": [
    {
     "data": {
      "text/plain": [
       "array([[1.        , 0.5       , 0.33333333],\n",
       "       [0.25      , 0.2       , 0.16666667]])"
      ]
     },
     "execution_count": 37,
     "metadata": {},
     "output_type": "execute_result"
    }
   ],
   "source": [
    "1 / arr"
   ]
  },
  {
   "cell_type": "code",
   "execution_count": 38,
   "metadata": {},
   "outputs": [
    {
     "data": {
      "text/plain": [
       "array([[1.        , 1.41421356, 1.73205081],\n",
       "       [2.        , 2.23606798, 2.44948974]])"
      ]
     },
     "execution_count": 38,
     "metadata": {},
     "output_type": "execute_result"
    }
   ],
   "source": [
    "arr ** 0.5"
   ]
  },
  {
   "cell_type": "code",
   "execution_count": 39,
   "metadata": {},
   "outputs": [
    {
     "data": {
      "text/plain": [
       "array([[False,  True, False],\n",
       "       [ True, False,  True]])"
      ]
     },
     "execution_count": 39,
     "metadata": {},
     "output_type": "execute_result"
    }
   ],
   "source": [
    "# 大小相同的数组之间的比较会生成布尔值数组：\n",
    "arr2 = np.array([[0., 4., 1.], [7., 2., 12.]])\n",
    "\n",
    "arr2 > arr"
   ]
  },
  {
   "cell_type": "markdown",
   "metadata": {},
   "source": [
    "不同大小的数组之间的运算叫做**广播**（broadcasting），\n",
    "将在附录A中对其进行详细讨论。"
   ]
  },
  {
   "cell_type": "markdown",
   "metadata": {},
   "source": [
    "### 基本的索引和切片\n",
    "\n",
    "NumPy数组的索引是一个内容丰富的主题，因为选取数据子集或单个元素的方式有很多。\n",
    "`一维数组`很简单。从表面上看，它们跟Python列表的功能差不多："
   ]
  },
  {
   "cell_type": "code",
   "execution_count": 40,
   "metadata": {},
   "outputs": [
    {
     "data": {
      "text/plain": [
       "array([[ 1.,  2.,  3.],\n",
       "       [10., 10., 10.]])"
      ]
     },
     "execution_count": 40,
     "metadata": {},
     "output_type": "execute_result"
    }
   ],
   "source": [
    "# 将一个标量值赋值给一个切片时（如arr[:3]=10），\n",
    "# 该值会自动传播（也就说后面将会讲到的“广播”）到整个选区。\n",
    "arr[1][:3] = 10\n",
    "arr"
   ]
  },
  {
   "cell_type": "markdown",
   "metadata": {},
   "source": [
    "跟列表最重要的区别在于，数组切片是原始数组的`视图`。\n",
    "这意味着数据不会被复制，视图上的任何修改都会直接反映到`源数组`上。\n",
    "example:"
   ]
  },
  {
   "cell_type": "code",
   "execution_count": 42,
   "metadata": {},
   "outputs": [
    {
     "data": {
      "text/plain": [
       "array([    0,     1,     2,     3,     4,     5, 12345,     7])"
      ]
     },
     "execution_count": 42,
     "metadata": {},
     "output_type": "execute_result"
    }
   ],
   "source": [
    "arr = np.arange(8)\n",
    "arr_slice = arr[5:8]\n",
    "\n",
    "# arr_slice\n",
    "\n",
    "arr_slice[1] = 12345\n",
    "\n",
    "arr"
   ]
  },
  {
   "cell_type": "code",
   "execution_count": 43,
   "metadata": {},
   "outputs": [
    {
     "data": {
      "text/plain": [
       "array([ 0,  1,  2,  3,  4, 64, 64, 64])"
      ]
     },
     "execution_count": 43,
     "metadata": {},
     "output_type": "execute_result"
    }
   ],
   "source": [
    "# 给所有的赋值\n",
    "arr_slice[:] = 64\n",
    "arr"
   ]
  },
  {
   "cell_type": "markdown",
   "metadata": {},
   "source": [
    "如果你刚开始接触NumPy，可能会对此感到惊讶（尤其是当你曾经用过其他热衷于`复制数组`数据的编程语言）。\n",
    "由于NumPy的设计目的是处理大数据，所以你可以想象一下，假如NumPy坚持要将数据复制来复制去的话会产生何等的`性能`和`内存`问题。\n",
    "\n",
    ">注意：如果你想要得到的是ndarray切片的一份副本而非视图，\n",
    "就需要明确地进行复制操作，例如**arr[5:8].copy()**。"
   ]
  },
  {
   "cell_type": "code",
   "execution_count": 44,
   "metadata": {},
   "outputs": [
    {
     "data": {
      "text/plain": [
       "array([7, 8, 9])"
      ]
     },
     "execution_count": 44,
     "metadata": {},
     "output_type": "execute_result"
    }
   ],
   "source": [
    "# 二维数组\n",
    "\n",
    "arr2d = np.array([[1, 2, 3], [4, 5, 6], [7, 8, 9]])\n",
    "\n",
    "arr2d[2]"
   ]
  },
  {
   "cell_type": "code",
   "execution_count": 45,
   "metadata": {},
   "outputs": [
    {
     "data": {
      "text/plain": [
       "3"
      ]
     },
     "execution_count": 45,
     "metadata": {},
     "output_type": "execute_result"
    }
   ],
   "source": [
    "# equal\n",
    "arr2d[0][2]\n",
    "\n",
    "arr2d[0, 2]"
   ]
  },
  {
   "cell_type": "markdown",
   "metadata": {},
   "source": [
    "二维数组的索引方式。`轴0`作为行，轴1作为列。\n",
    "\n",
    "![image](https://upload-images.jianshu.io/upload_images/7178691-0a641536f73f560e.png?imageMogr2/auto-orient/strip%7CimageView2/2/w/700)"
   ]
  },
  {
   "cell_type": "code",
   "execution_count": 47,
   "metadata": {},
   "outputs": [
    {
     "data": {
      "text/plain": [
       "array([[[ 1,  2,  3],\n",
       "        [ 4,  5,  6]],\n",
       "\n",
       "       [[ 7,  8,  9],\n",
       "        [10, 11, 12]]])"
      ]
     },
     "execution_count": 47,
     "metadata": {},
     "output_type": "execute_result"
    }
   ],
   "source": [
    "# 2×2×3数组arr3d\n",
    "\n",
    "arr3d = np.array([[[1, 2, 3], [4, 5, 6]], [[7, 8, 9], [10, 11, 12]]])\n",
    "arr3d arr3d[0]"
   ]
  },
  {
   "cell_type": "code",
   "execution_count": 48,
   "metadata": {},
   "outputs": [
    {
     "data": {
      "text/plain": [
       "array([[1, 2, 3],\n",
       "       [4, 5, 6]])"
      ]
     },
     "execution_count": 48,
     "metadata": {},
     "output_type": "execute_result"
    }
   ],
   "source": [
    " arr3d[0]"
   ]
  },
  {
   "cell_type": "code",
   "execution_count": 49,
   "metadata": {},
   "outputs": [
    {
     "data": {
      "text/plain": [
       "array([[[42, 42, 42],\n",
       "        [42, 42, 42]],\n",
       "\n",
       "       [[ 7,  8,  9],\n",
       "        [10, 11, 12]]])"
      ]
     },
     "execution_count": 49,
     "metadata": {},
     "output_type": "execute_result"
    }
   ],
   "source": [
    "# 标量值和数组都可以被赋值给arr3d[0]：\n",
    "old_values = arr3d[0].copy()\n",
    "arr3d[0] = 42\n",
    "arr3d"
   ]
  },
  {
   "cell_type": "code",
   "execution_count": 50,
   "metadata": {},
   "outputs": [
    {
     "data": {
      "text/plain": [
       "array([[[ 1,  2,  3],\n",
       "        [ 4,  5,  6]],\n",
       "\n",
       "       [[ 7,  8,  9],\n",
       "        [10, 11, 12]]])"
      ]
     },
     "execution_count": 50,
     "metadata": {},
     "output_type": "execute_result"
    }
   ],
   "source": [
    "arr3d[0] = old_values\n",
    "arr3d"
   ]
  },
  {
   "cell_type": "code",
   "execution_count": 51,
   "metadata": {},
   "outputs": [
    {
     "data": {
      "text/plain": [
       "array([7, 8, 9])"
      ]
     },
     "execution_count": 51,
     "metadata": {},
     "output_type": "execute_result"
    }
   ],
   "source": [
    "# return arr1d\n",
    "arr3d[1][0]\n",
    "arr3d[1, 0]"
   ]
  },
  {
   "cell_type": "markdown",
   "metadata": {},
   "source": [
    ">注意，在上面所有这些选取数组子集的例子中，返回的数组都是`视图`。\n"
   ]
  },
  {
   "cell_type": "markdown",
   "metadata": {},
   "source": [
    "### 切片索引\n",
    "ndarray的切片语法跟Python列表这样的一维对象差不多："
   ]
  },
  {
   "cell_type": "code",
   "execution_count": 52,
   "metadata": {},
   "outputs": [
    {
     "data": {
      "text/plain": [
       "array([ 1,  2,  3,  4, 64])"
      ]
     },
     "execution_count": 52,
     "metadata": {},
     "output_type": "execute_result"
    }
   ],
   "source": [
    "arr[1:6]"
   ]
  },
  {
   "cell_type": "code",
   "execution_count": 55,
   "metadata": {},
   "outputs": [
    {
     "data": {
      "text/plain": [
       "array([[1, 2, 3],\n",
       "       [4, 5, 6],\n",
       "       [7, 8, 9]])"
      ]
     },
     "execution_count": 55,
     "metadata": {},
     "output_type": "execute_result"
    }
   ],
   "source": [
    "arr2d"
   ]
  },
  {
   "cell_type": "code",
   "execution_count": 53,
   "metadata": {},
   "outputs": [
    {
     "data": {
      "text/plain": [
       "array([[1, 2, 3],\n",
       "       [4, 5, 6]])"
      ]
     },
     "execution_count": 53,
     "metadata": {},
     "output_type": "execute_result"
    }
   ],
   "source": [
    "arr2d[:2]"
   ]
  },
  {
   "cell_type": "code",
   "execution_count": 54,
   "metadata": {},
   "outputs": [
    {
     "data": {
      "text/plain": [
       "array([[2, 3],\n",
       "       [5, 6]])"
      ]
     },
     "execution_count": 54,
     "metadata": {},
     "output_type": "execute_result"
    }
   ],
   "source": [
    "arr2d[:2, 1:]"
   ]
  },
  {
   "cell_type": "markdown",
   "metadata": {},
   "source": [
    "### 布尔型索引\n",
    "\n",
    "假设我们有一个用于存储数据的数组以及一个存储姓名的数组（含有重复项）。\n",
    "在这里，我将使用numpy.random中的randn函数生成一些正态分布的随机数据："
   ]
  },
  {
   "cell_type": "code",
   "execution_count": 56,
   "metadata": {},
   "outputs": [
    {
     "data": {
      "text/plain": [
       "array([[ 1.79837322, -0.75108933, -0.57765451,  0.08340755],\n",
       "       [-0.24950804,  0.8593237 ,  0.15842789,  0.61068519],\n",
       "       [ 0.38239472,  1.39993552, -1.69589636,  0.1718328 ],\n",
       "       [-0.8647888 , -1.13112573, -0.27899982,  0.12183587],\n",
       "       [-0.43516711,  0.02563497,  0.55420906,  1.76522369],\n",
       "       [ 0.09317673,  0.16931281,  0.22299258, -0.85077317],\n",
       "       [-0.23944125,  0.07500977,  0.10598339,  2.58472196]])"
      ]
     },
     "execution_count": 56,
     "metadata": {},
     "output_type": "execute_result"
    }
   ],
   "source": [
    "names = np.array(['Bob', 'Joe', 'Will', 'Bob', 'Will', 'Joe', 'Joe'])\n",
    "\n",
    "data = np.random.randn(7, 4)\n",
    "\n",
    "data"
   ]
  },
  {
   "cell_type": "code",
   "execution_count": 57,
   "metadata": {},
   "outputs": [
    {
     "data": {
      "text/plain": [
       "array([ True, False, False,  True, False, False, False])"
      ]
     },
     "execution_count": 57,
     "metadata": {},
     "output_type": "execute_result"
    }
   ],
   "source": [
    "names != 'Bob'\n",
    "names == 'Bob'"
   ]
  },
  {
   "cell_type": "code",
   "execution_count": 58,
   "metadata": {},
   "outputs": [
    {
     "data": {
      "text/plain": [
       "array([[ 1.79837322, -0.75108933, -0.57765451,  0.08340755],\n",
       "       [-0.8647888 , -1.13112573, -0.27899982,  0.12183587]])"
      ]
     },
     "execution_count": 58,
     "metadata": {},
     "output_type": "execute_result"
    }
   ],
   "source": [
    "# 2 rows  布尔型数组的长度必须跟被索引的轴长度一致\n",
    "data[names == 'Bob']"
   ]
  },
  {
   "cell_type": "code",
   "execution_count": 60,
   "metadata": {},
   "outputs": [
    {
     "data": {
      "text/plain": [
       "array([[-0.57765451,  0.08340755],\n",
       "       [-0.27899982,  0.12183587]])"
      ]
     },
     "execution_count": 60,
     "metadata": {},
     "output_type": "execute_result"
    }
   ],
   "source": [
    "data[names == 'Bob', 2:]"
   ]
  },
  {
   "cell_type": "code",
   "execution_count": 61,
   "metadata": {},
   "outputs": [
    {
     "data": {
      "text/plain": [
       "array([[-0.24950804,  0.8593237 ,  0.15842789,  0.61068519],\n",
       "       [ 0.38239472,  1.39993552, -1.69589636,  0.1718328 ],\n",
       "       [-0.43516711,  0.02563497,  0.55420906,  1.76522369],\n",
       "       [ 0.09317673,  0.16931281,  0.22299258, -0.85077317],\n",
       "       [-0.23944125,  0.07500977,  0.10598339,  2.58472196]])"
      ]
     },
     "execution_count": 61,
     "metadata": {},
     "output_type": "execute_result"
    }
   ],
   "source": [
    "data[~(names == 'Bob')]"
   ]
  },
  {
   "cell_type": "code",
   "execution_count": 62,
   "metadata": {},
   "outputs": [
    {
     "data": {
      "text/plain": [
       "array([[-0.24950804,  0.8593237 ,  0.15842789,  0.61068519],\n",
       "       [ 0.38239472,  1.39993552, -1.69589636,  0.1718328 ],\n",
       "       [-0.43516711,  0.02563497,  0.55420906,  1.76522369],\n",
       "       [ 0.09317673,  0.16931281,  0.22299258, -0.85077317],\n",
       "       [-0.23944125,  0.07500977,  0.10598339,  2.58472196]])"
      ]
     },
     "execution_count": 62,
     "metadata": {},
     "output_type": "execute_result"
    }
   ],
   "source": [
    "# ~ condition\n",
    "cond = names == 'Bob'\n",
    "\n",
    "data[~cond]"
   ]
  },
  {
   "cell_type": "code",
   "execution_count": 63,
   "metadata": {},
   "outputs": [
    {
     "data": {
      "text/plain": [
       "array([ True, False,  True,  True,  True, False, False])"
      ]
     },
     "execution_count": 63,
     "metadata": {},
     "output_type": "execute_result"
    }
   ],
   "source": [
    "# 多个布尔条件，使用&（和）、|（或）之类的布尔算术运算符即可：\n",
    "# Python关键字and和or在布尔型数组中无效。要使用&与|。\n",
    "mask = (names == 'Bob') | (names == 'Will')\n",
    "\n",
    "mask"
   ]
  },
  {
   "cell_type": "code",
   "execution_count": 64,
   "metadata": {},
   "outputs": [
    {
     "data": {
      "text/plain": [
       "array([[ 1.79837322, -0.75108933, -0.57765451,  0.08340755],\n",
       "       [ 0.38239472,  1.39993552, -1.69589636,  0.1718328 ],\n",
       "       [-0.8647888 , -1.13112573, -0.27899982,  0.12183587],\n",
       "       [-0.43516711,  0.02563497,  0.55420906,  1.76522369]])"
      ]
     },
     "execution_count": 64,
     "metadata": {},
     "output_type": "execute_result"
    }
   ],
   "source": [
    "data[mask]"
   ]
  },
  {
   "cell_type": "code",
   "execution_count": 65,
   "metadata": {},
   "outputs": [
    {
     "data": {
      "text/plain": [
       "array([[1.79837322, 0.        , 0.        , 0.08340755],\n",
       "       [0.        , 0.8593237 , 0.15842789, 0.61068519],\n",
       "       [0.38239472, 1.39993552, 0.        , 0.1718328 ],\n",
       "       [0.        , 0.        , 0.        , 0.12183587],\n",
       "       [0.        , 0.02563497, 0.55420906, 1.76522369],\n",
       "       [0.09317673, 0.16931281, 0.22299258, 0.        ],\n",
       "       [0.        , 0.07500977, 0.10598339, 2.58472196]])"
      ]
     },
     "execution_count": 65,
     "metadata": {},
     "output_type": "execute_result"
    }
   ],
   "source": [
    " data[data < 0] = 0\n",
    "\n",
    "data"
   ]
  },
  {
   "cell_type": "code",
   "execution_count": 66,
   "metadata": {},
   "outputs": [
    {
     "data": {
      "text/plain": [
       "array([[7.        , 7.        , 7.        , 7.        ],\n",
       "       [0.        , 0.8593237 , 0.15842789, 0.61068519],\n",
       "       [7.        , 7.        , 7.        , 7.        ],\n",
       "       [7.        , 7.        , 7.        , 7.        ],\n",
       "       [7.        , 7.        , 7.        , 7.        ],\n",
       "       [0.09317673, 0.16931281, 0.22299258, 0.        ],\n",
       "       [0.        , 0.07500977, 0.10598339, 2.58472196]])"
      ]
     },
     "execution_count": 66,
     "metadata": {},
     "output_type": "execute_result"
    }
   ],
   "source": [
    "data[names != 'Joe'] = 7\n",
    "\n",
    "data"
   ]
  },
  {
   "cell_type": "markdown",
   "metadata": {},
   "source": [
    "### 花式索引（Fancy indexing）\n",
    "\n",
    "利用`整数数组`进行索引。假设我们有一个8×4数组："
   ]
  },
  {
   "cell_type": "code",
   "execution_count": 68,
   "metadata": {},
   "outputs": [
    {
     "data": {
      "text/plain": [
       "array([[0., 0., 0., 0.],\n",
       "       [1., 1., 1., 1.],\n",
       "       [2., 2., 2., 2.],\n",
       "       [3., 3., 3., 3.],\n",
       "       [4., 4., 4., 4.],\n",
       "       [5., 5., 5., 5.],\n",
       "       [6., 6., 6., 6.],\n",
       "       [7., 7., 7., 7.]])"
      ]
     },
     "execution_count": 68,
     "metadata": {},
     "output_type": "execute_result"
    }
   ],
   "source": [
    "arr = np.empty((8, 4))\n",
    "for i in range(8):\n",
    "    arr[i] = i\n",
    "arr"
   ]
  },
  {
   "cell_type": "code",
   "execution_count": 69,
   "metadata": {},
   "outputs": [
    {
     "data": {
      "text/plain": [
       "array([[4., 4., 4., 4.],\n",
       "       [3., 3., 3., 3.],\n",
       "       [0., 0., 0., 0.],\n",
       "       [6., 6., 6., 6.]])"
      ]
     },
     "execution_count": 69,
     "metadata": {},
     "output_type": "execute_result"
    }
   ],
   "source": [
    "arr[[4, 3, 0, 6]]"
   ]
  },
  {
   "cell_type": "code",
   "execution_count": 70,
   "metadata": {},
   "outputs": [
    {
     "data": {
      "text/plain": [
       "array([[5., 5., 5., 5.],\n",
       "       [3., 3., 3., 3.],\n",
       "       [1., 1., 1., 1.]])"
      ]
     },
     "execution_count": 70,
     "metadata": {},
     "output_type": "execute_result"
    }
   ],
   "source": [
    "# 使用负数索引将会从末尾开始选取行\n",
    "arr[[-3, -5, -7]]"
   ]
  },
  {
   "cell_type": "code",
   "execution_count": 71,
   "metadata": {},
   "outputs": [
    {
     "data": {
      "text/plain": [
       "array([1., 5., 7., 2.])"
      ]
     },
     "execution_count": 71,
     "metadata": {},
     "output_type": "execute_result"
    }
   ],
   "source": [
    "# 一次传入多个索引数组\n",
    "arr[[1, 5, 7, 2], [0, 3, 1, 2]]"
   ]
  },
  {
   "cell_type": "code",
   "execution_count": 72,
   "metadata": {},
   "outputs": [
    {
     "data": {
      "text/plain": [
       "array([[1., 1., 1., 1.],\n",
       "       [5., 5., 5., 5.],\n",
       "       [7., 7., 7., 7.],\n",
       "       [2., 2., 2., 2.]])"
      ]
     },
     "execution_count": 72,
     "metadata": {},
     "output_type": "execute_result"
    }
   ],
   "source": [
    "arr[[1, 5, 7, 2]][:, [0, 3, 1, 2]]"
   ]
  },
  {
   "cell_type": "markdown",
   "metadata": {},
   "source": [
    "记住，花式索引跟切片不一样，它总是将数据**复制**到新数组中。"
   ]
  },
  {
   "cell_type": "markdown",
   "metadata": {},
   "source": [
    "### 数组转置和轴对换\n",
    "\n",
    "转置是重塑的一种特殊形式，它返回的是源数据的视图（不会进行任何复制操作）。\n",
    "\n",
    "数组不仅有transpose方法，还有一个特殊的T属性："
   ]
  },
  {
   "cell_type": "code",
   "execution_count": 73,
   "metadata": {},
   "outputs": [
    {
     "data": {
      "text/plain": [
       "array([[ 0,  5, 10],\n",
       "       [ 1,  6, 11],\n",
       "       [ 2,  7, 12],\n",
       "       [ 3,  8, 13],\n",
       "       [ 4,  9, 14]])"
      ]
     },
     "execution_count": 73,
     "metadata": {},
     "output_type": "execute_result"
    }
   ],
   "source": [
    "arr = np.arange(15).reshape((3, 5))\n",
    "\n",
    "arr.T"
   ]
  },
  {
   "cell_type": "code",
   "execution_count": 75,
   "metadata": {},
   "outputs": [
    {
     "data": {
      "text/plain": [
       "array([[125, 140, 155, 170, 185],\n",
       "       [140, 158, 176, 194, 212],\n",
       "       [155, 176, 197, 218, 239],\n",
       "       [170, 194, 218, 242, 266],\n",
       "       [185, 212, 239, 266, 293]])"
      ]
     },
     "execution_count": 75,
     "metadata": {},
     "output_type": "execute_result"
    }
   ],
   "source": [
    "# 利用np.dot计算矩阵内积  5*3 3*5 --> 5*5\n",
    "np.dot(arr.T, arr)"
   ]
  },
  {
   "cell_type": "markdown",
   "metadata": {},
   "source": [
    "对于高维数组，`transpose`需要得到一个由轴编号(0,1,2)(row,column,)组成的元组才能对这些轴进行转置（比较费脑子）："
   ]
  },
  {
   "cell_type": "code",
   "execution_count": 76,
   "metadata": {},
   "outputs": [
    {
     "data": {
      "text/plain": [
       "array([[[ 0,  1,  2,  3],\n",
       "        [ 8,  9, 10, 11]],\n",
       "\n",
       "       [[ 4,  5,  6,  7],\n",
       "        [12, 13, 14, 15]]])"
      ]
     },
     "execution_count": 76,
     "metadata": {},
     "output_type": "execute_result"
    }
   ],
   "source": [
    "arr = np.arange(16).reshape((2, 2, 4))\n",
    "# 这里，第一个轴被换成了第二个，第二个轴被换成了第一个，最后一个轴不变。\n",
    "arr.transpose((1, 0, 2))"
   ]
  },
  {
   "cell_type": "code",
   "execution_count": 78,
   "metadata": {},
   "outputs": [
    {
     "data": {
      "text/plain": [
       "array([[[ 0,  1,  2,  3],\n",
       "        [ 4,  5,  6,  7]],\n",
       "\n",
       "       [[ 8,  9, 10, 11],\n",
       "        [12, 13, 14, 15]]])"
      ]
     },
     "execution_count": 78,
     "metadata": {},
     "output_type": "execute_result"
    }
   ],
   "source": [
    "arr"
   ]
  },
  {
   "cell_type": "code",
   "execution_count": 77,
   "metadata": {},
   "outputs": [
    {
     "data": {
      "text/plain": [
       "array([[[ 0,  4],\n",
       "        [ 1,  5],\n",
       "        [ 2,  6],\n",
       "        [ 3,  7]],\n",
       "\n",
       "       [[ 8, 12],\n",
       "        [ 9, 13],\n",
       "        [10, 14],\n",
       "        [11, 15]]])"
      ]
     },
     "execution_count": 77,
     "metadata": {},
     "output_type": "execute_result"
    }
   ],
   "source": [
    "# 轴对换，返回源数据的视图\n",
    "arr.swapaxes(1, 2)"
   ]
  },
  {
   "cell_type": "markdown",
   "metadata": {},
   "source": [
    "## 4.2 通用函数：快速的元素级数组函数\n",
    "\n",
    "通用函数（即ufunc）是一种对ndarray中的数据执行元素级运算的函数。\n",
    "你可以将其看做简单函数（接受一个或多个标量值，并产生一个或多个标量值）的矢量化包装器。\n",
    "\n",
    "许多ufunc都是简单的元素级变体，如`sqrt`和`exp`："
   ]
  },
  {
   "cell_type": "code",
   "execution_count": 79,
   "metadata": {},
   "outputs": [
    {
     "data": {
      "text/plain": [
       "array([0.        , 1.        , 1.41421356, 1.73205081, 2.        ,\n",
       "       2.23606798, 2.44948974, 2.64575131, 2.82842712, 3.        ])"
      ]
     },
     "execution_count": 79,
     "metadata": {},
     "output_type": "execute_result"
    }
   ],
   "source": [
    "arr = np.arange(10)\n",
    "\n",
    "np.sqrt(arr)"
   ]
  },
  {
   "cell_type": "code",
   "execution_count": 80,
   "metadata": {},
   "outputs": [
    {
     "data": {
      "text/plain": [
       "array([1.00000000e+00, 2.71828183e+00, 7.38905610e+00, 2.00855369e+01,\n",
       "       5.45981500e+01, 1.48413159e+02, 4.03428793e+02, 1.09663316e+03,\n",
       "       2.98095799e+03, 8.10308393e+03])"
      ]
     },
     "execution_count": 80,
     "metadata": {},
     "output_type": "execute_result"
    }
   ],
   "source": [
    "# Inx\n",
    "np.exp(arr)"
   ]
  },
  {
   "cell_type": "markdown",
   "metadata": {},
   "source": [
    "这些都是一元（unary）ufunc。\n",
    "另外一些（如`add`或`maximum`）接受2个数组（因此也叫二元（binary）ufunc），并返回一个结果数组："
   ]
  },
  {
   "cell_type": "code",
   "execution_count": 81,
   "metadata": {},
   "outputs": [
    {
     "data": {
      "text/plain": [
       "array([ 0.33699763,  0.71475794, -0.0595773 , -0.15247753,  0.93777287,\n",
       "        0.36792678,  1.58950112,  0.71717789])"
      ]
     },
     "execution_count": 81,
     "metadata": {},
     "output_type": "execute_result"
    }
   ],
   "source": [
    "x = np.random.randn(8)\n",
    "\n",
    "y = np.random.randn(8)\n",
    "\n",
    "np.maximum(x, y)"
   ]
  },
  {
   "cell_type": "markdown",
   "metadata": {},
   "source": [
    "表4-3和表4-4分别列出了一些一元和二元ufunc。\n",
    "\n",
    "![4-3](https://upload-images.jianshu.io/upload_images/7178691-1d494e73b61c7ced.png?imageMogr2/auto-orient/strip%7CimageView2/2/w/700)\n",
    "![4-4](https://upload-images.jianshu.io/upload_images/7178691-eff1e61e5464159f.png?imageMogr2/auto-orient/strip%7CimageView2/2/w/700)"
   ]
  },
  {
   "cell_type": "markdown",
   "metadata": {},
   "source": [
    "### 4.3 利用数组进行数据处理\n",
    "NumPy数组使你可以将许多种数据处理任务表述为简洁的数组表达式（否则需要编写循环）。\n",
    "用数组表达式代替循环的做法，通常被称为**矢量化**。\n",
    "一般来说，矢量化数组运算要比等价的纯Python方式快上一两个数量级（甚至更多），尤其是各种数值计算。在后面内容中（见附录A）我将介绍广播，这是一种针对矢量化计算的强大手段。\n",
    "\n",
    "作为简单的例子，假设我们想要在一组值（**网格型**）上计算函数sqrt(x^2+y^2)。\n",
    "np.meshgrid函数接受两个一维数组，并产生两个二维矩阵（对应于两个数组中所有的(x,y)对）：\n"
   ]
  },
  {
   "cell_type": "code",
   "execution_count": 83,
   "metadata": {},
   "outputs": [
    {
     "data": {
      "text/plain": [
       "array([[-5.  , -5.  , -5.  , ..., -5.  , -5.  , -5.  ],\n",
       "       [-4.99, -4.99, -4.99, ..., -4.99, -4.99, -4.99],\n",
       "       [-4.98, -4.98, -4.98, ..., -4.98, -4.98, -4.98],\n",
       "       ...,\n",
       "       [ 4.97,  4.97,  4.97, ...,  4.97,  4.97,  4.97],\n",
       "       [ 4.98,  4.98,  4.98, ...,  4.98,  4.98,  4.98],\n",
       "       [ 4.99,  4.99,  4.99, ...,  4.99,  4.99,  4.99]])"
      ]
     },
     "execution_count": 83,
     "metadata": {},
     "output_type": "execute_result"
    }
   ],
   "source": [
    "points = np.arange(-5, 5, 0.01) # 1000 equally spaced points\n",
    "# [-5.00...4.99]\n",
    "xs, ys = np.meshgrid(points, points)\n",
    "# 1000*1000\n",
    "ys"
   ]
  },
  {
   "cell_type": "code",
   "execution_count": 84,
   "metadata": {},
   "outputs": [
    {
     "data": {
      "text/plain": [
       "array([[7.07106781, 7.06400028, 7.05693985, ..., 7.04988652, 7.05693985,\n",
       "        7.06400028],\n",
       "       [7.06400028, 7.05692568, 7.04985815, ..., 7.04279774, 7.04985815,\n",
       "        7.05692568],\n",
       "       [7.05693985, 7.04985815, 7.04278354, ..., 7.03571603, 7.04278354,\n",
       "        7.04985815],\n",
       "       ...,\n",
       "       [7.04988652, 7.04279774, 7.03571603, ..., 7.0286414 , 7.03571603,\n",
       "        7.04279774],\n",
       "       [7.05693985, 7.04985815, 7.04278354, ..., 7.03571603, 7.04278354,\n",
       "        7.04985815],\n",
       "       [7.06400028, 7.05692568, 7.04985815, ..., 7.04279774, 7.04985815,\n",
       "        7.05692568]])"
      ]
     },
     "execution_count": 84,
     "metadata": {},
     "output_type": "execute_result"
    }
   ],
   "source": [
    "z = np.sqrt(xs ** 2 + ys ** 2)\n",
    "z"
   ]
  },
  {
   "cell_type": "code",
   "execution_count": 87,
   "metadata": {},
   "outputs": [
    {
     "data": {
      "image/png": "[encoded data removed]",
      "text/plain": [
       "<matplotlib.figure.Figure at 0x1b863f53c50>"
      ]
     },
     "metadata": {},
     "output_type": "display_data"
    }
   ],
   "source": [
    "# z 可视化\n",
    "import matplotlib.pyplot as plt\n",
    "\n",
    "plt.imshow(z, cmap=plt.cm.gray); plt.colorbar()\n",
    "\n",
    "plt.title(\"Image plot of $\\sqrt{x^2 + y^2}$ for a grid of values\")\n",
    "\n",
    "plt.show()"
   ]
  },
  {
   "cell_type": "markdown",
   "metadata": {},
   "source": [
    "### 将条件逻辑表述为数组运算\n",
    "**numpy.where**函数是三元表达式**x if condition else y**的矢量化版本。\n",
    "\n",
    "假设我们有一个布尔数组和两个值数组："
   ]
  },
  {
   "cell_type": "code",
   "execution_count": 88,
   "metadata": {},
   "outputs": [
    {
     "data": {
      "text/plain": [
       "[1.1, 2.2, 1.3, 1.4, 2.5]"
      ]
     },
     "execution_count": 88,
     "metadata": {},
     "output_type": "execute_result"
    }
   ],
   "source": [
    "xarr = np.array([1.1, 1.2, 1.3, 1.4, 1.5])\n",
    "\n",
    "yarr = np.array([2.1, 2.2, 2.3, 2.4, 2.5])\n",
    "\n",
    "cond = np.array([True, False, True, True, False])\n",
    "\n",
    "# 假设我们想要根据cond中的值选取xarr和yarr的值：当cond中的值为True时，选取xarr的值，\n",
    "# 否则从yarr中选取。列表推导式的写法应该如下所示：\n",
    "\n",
    "result = [(x if c else y) for x, y, c in zip(xarr, yarr, cond)]\n",
    "\n",
    "result"
   ]
  },
  {
   "cell_type": "markdown",
   "metadata": {},
   "source": [
    "第一，它对大数组的处理速度不是很快（因为所有工作都是由纯Python完成的）。\n",
    "第二，无法用于**多维数组**。若使用*np.where*，则可以将该功能写得非常简洁："
   ]
  },
  {
   "cell_type": "code",
   "execution_count": 89,
   "metadata": {},
   "outputs": [
    {
     "data": {
      "text/plain": [
       "array([1.1, 2.2, 1.3, 1.4, 2.5])"
      ]
     },
     "execution_count": 89,
     "metadata": {},
     "output_type": "execute_result"
    }
   ],
   "source": [
    "result = np.where(cond, xarr, yarr)\n",
    "\n",
    "result"
   ]
  },
  {
   "cell_type": "markdown",
   "metadata": {},
   "source": [
    "np.where的第二个和第三个参数不必是数组，它们都可以是标量值。\n",
    "在数据分析工作中，where通常用于根据另一个数组而产生一个**新的数组**。\n",
    "假设有一个由随机数据组成的矩阵，你希望将所有正值替换为2，将所有负值替换为－2。\n",
    "若利用np.where，则会非常简单："
   ]
  },
  {
   "cell_type": "code",
   "execution_count": 90,
   "metadata": {},
   "outputs": [
    {
     "data": {
      "text/plain": [
       "array([[-0.67126931, -0.11156651, -1.07873339, -0.54958058],\n",
       "       [-1.21338309, -0.48779827,  0.99476055,  0.45229199],\n",
       "       [-0.04170625,  1.172426  , -0.70376304,  0.37562575],\n",
       "       [-0.57424823,  0.18815025,  0.62958876, -1.02553425]])"
      ]
     },
     "execution_count": 90,
     "metadata": {},
     "output_type": "execute_result"
    }
   ],
   "source": [
    "arr = np.random.randn(4, 4)\n",
    "\n",
    "arr"
   ]
  },
  {
   "cell_type": "code",
   "execution_count": 91,
   "metadata": {},
   "outputs": [
    {
     "data": {
      "text/plain": [
       "array([[False, False, False, False],\n",
       "       [False, False,  True,  True],\n",
       "       [False,  True, False,  True],\n",
       "       [False,  True,  True, False]])"
      ]
     },
     "execution_count": 91,
     "metadata": {},
     "output_type": "execute_result"
    }
   ],
   "source": [
    "arr>0"
   ]
  },
  {
   "cell_type": "code",
   "execution_count": 92,
   "metadata": {},
   "outputs": [
    {
     "data": {
      "text/plain": [
       "array([[-2, -2, -2, -2],\n",
       "       [-2, -2,  2,  2],\n",
       "       [-2,  2, -2,  2],\n",
       "       [-2,  2,  2, -2]])"
      ]
     },
     "execution_count": 92,
     "metadata": {},
     "output_type": "execute_result"
    }
   ],
   "source": [
    "np.where(arr > 0, 2, -2)"
   ]
  },
  {
   "cell_type": "code",
   "execution_count": 93,
   "metadata": {},
   "outputs": [
    {
     "data": {
      "text/plain": [
       "array([[-0.67126931, -0.11156651, -1.07873339, -0.54958058],\n",
       "       [-1.21338309, -0.48779827,  2.        ,  2.        ],\n",
       "       [-0.04170625,  2.        , -0.70376304,  2.        ],\n",
       "       [-0.57424823,  2.        ,  2.        , -1.02553425]])"
      ]
     },
     "execution_count": 93,
     "metadata": {},
     "output_type": "execute_result"
    }
   ],
   "source": [
    "# 使用np.where，可以将标量和数组结合起来。\n",
    "# 例如，我可用常数2替换arr中所有正的值：\n",
    "np.where(arr > 0, 2, arr) # set only positive values to 2"
   ]
  },
  {
   "cell_type": "markdown",
   "metadata": {},
   "source": [
    "### 数学和统计方法\n",
    "可以通过数组上的一组数学函数对整个数组或某个轴向的数据进行统计计算。\n",
    "**sum**、**mean**以及**标准差std**等**聚合计算**（aggregation，通常叫做约简（reduction））\n",
    "既可以当做数组的实例方法调用，也可以当做顶级NumPy函数使用。"
   ]
  },
  {
   "cell_type": "code",
   "execution_count": 94,
   "metadata": {},
   "outputs": [],
   "source": [
    "# 这里，我生成了一些正态分布随机数据，然后做了聚类统计\n",
    "arr = np.random.randn(5, 4)\n",
    "# instance method\n",
    "arr.mean()\n",
    "\n",
    "# top method\n",
    "np.mean(arr)\n",
    "\n",
    "arr.sum()"
   ]
  },
  {
   "cell_type": "markdown",
   "metadata": {},
   "source": [
    "mean和sum这类的函数可以接受一个axis选项参数，用于计算该轴向上的统计值，最终结果是一个少一维的数组："
   ]
  },
  {
   "cell_type": "code",
   "execution_count": 95,
   "metadata": {},
   "outputs": [
    {
     "data": {
      "text/plain": [
       "array([ 0.91579986, -0.03532731,  1.11791282,  0.54731141,  0.26790485])"
      ]
     },
     "execution_count": 95,
     "metadata": {},
     "output_type": "execute_result"
    }
   ],
   "source": [
    "# row \n",
    "arr.mean(axis=1)"
   ]
  },
  {
   "cell_type": "code",
   "execution_count": 99,
   "metadata": {},
   "outputs": [
    {
     "data": {
      "text/plain": [
       "array([5.19527927, 1.93855267, 0.10956583, 4.0110087 ])"
      ]
     },
     "execution_count": 99,
     "metadata": {},
     "output_type": "execute_result"
    }
   ],
   "source": [
    "# column\n",
    "arr.sum(axis=0)"
   ]
  },
  {
   "cell_type": "markdown",
   "metadata": {},
   "source": [
    "其他如**cumsum**和cumprod之类的方法则不聚合，而是产生一个由中间结果组成的数组："
   ]
  },
  {
   "cell_type": "code",
   "execution_count": 100,
   "metadata": {},
   "outputs": [
    {
     "data": {
      "text/plain": [
       "array([ 0,  1,  3,  6, 10, 15, 21, 28], dtype=int32)"
      ]
     },
     "execution_count": 100,
     "metadata": {},
     "output_type": "execute_result"
    }
   ],
   "source": [
    "arr = np.array([0, 1, 2, 3, 4, 5, 6, 7])\n",
    "\n",
    "arr.cumsum()"
   ]
  },
  {
   "cell_type": "code",
   "execution_count": 101,
   "metadata": {},
   "outputs": [
    {
     "data": {
      "text/plain": [
       "array([[ 0,  1,  2],\n",
       "       [ 3,  5,  7],\n",
       "       [ 9, 12, 15]], dtype=int32)"
      ]
     },
     "execution_count": 101,
     "metadata": {},
     "output_type": "execute_result"
    }
   ],
   "source": [
    "# 在多维数组中，累加函数（如cumsum）返回的是同样大小的数组，\n",
    "# 但是会根据每个低维的切片沿着标记轴计算部分聚类：\n",
    "arr = np.array([[0, 1, 2], [3, 4, 5], [6, 7, 8]])\n",
    "\n",
    "arr.cumsum(axis=0)\n"
   ]
  },
  {
   "cell_type": "code",
   "execution_count": 102,
   "metadata": {},
   "outputs": [
    {
     "data": {
      "text/plain": [
       "array([[  0,   0,   0],\n",
       "       [  3,  12,  60],\n",
       "       [  6,  42, 336]], dtype=int32)"
      ]
     },
     "execution_count": 102,
     "metadata": {},
     "output_type": "execute_result"
    }
   ],
   "source": [
    "arr.cumprod(axis=1)"
   ]
  },
  {
   "cell_type": "markdown",
   "metadata": {},
   "source": [
    "全部的基本数组统计方法。\n",
    "[pic](https://upload-images.jianshu.io/upload_images/7178691-a6c6df3ca8e0b98e.png?imageMogr2/auto-orient/strip%7CimageView2/2/w/700)"
   ]
  },
  {
   "cell_type": "markdown",
   "metadata": {},
   "source": [
    "### 用于布尔型数组的方法\n",
    "\n",
    "在上面这些方法中，布尔值会被强制转换为1（True）和0（False）。\n",
    "因此，sum经常被用来对布尔型数组中的True值计数："
   ]
  },
  {
   "cell_type": "code",
   "execution_count": 103,
   "metadata": {},
   "outputs": [
    {
     "data": {
      "text/plain": [
       "51"
      ]
     },
     "execution_count": 103,
     "metadata": {},
     "output_type": "execute_result"
    }
   ],
   "source": [
    "arr = np.random.randn(100)\n",
    "\n",
    "(arr > 0).sum()"
   ]
  },
  {
   "cell_type": "markdown",
   "metadata": {},
   "source": [
    "另外还有两个方法any和all，它们对布尔型数组非常有用。\n",
    "**any**用于测试数组中是否存在一个或多个True，而**all**则检查数组中所有值是否都是True：\n",
    "这两个方法也能用于非布尔型数组，所有非0元素将会被当做True。"
   ]
  },
  {
   "cell_type": "code",
   "execution_count": 105,
   "metadata": {},
   "outputs": [
    {
     "data": {
      "text/plain": [
       "True"
      ]
     },
     "execution_count": 105,
     "metadata": {},
     "output_type": "execute_result"
    }
   ],
   "source": [
    "bools = np.array([False, False, True, False])\n",
    "\n",
    "bools.any()"
   ]
  },
  {
   "cell_type": "code",
   "execution_count": 106,
   "metadata": {},
   "outputs": [
    {
     "data": {
      "text/plain": [
       "False"
      ]
     },
     "execution_count": 106,
     "metadata": {},
     "output_type": "execute_result"
    }
   ],
   "source": [
    " bools.all()"
   ]
  },
  {
   "cell_type": "code",
   "execution_count": 107,
   "metadata": {},
   "outputs": [
    {
     "data": {
      "text/plain": [
       "array([-0.55561079, -0.4209641 , -0.39671425,  0.35289532,  0.48454691,\n",
       "        1.36144644])"
      ]
     },
     "execution_count": 107,
     "metadata": {},
     "output_type": "execute_result"
    }
   ],
   "source": [
    "# 排序\n",
    "arr = np.random.randn(6)\n",
    "\n",
    "arr.sort()\n",
    "\n",
    "arr"
   ]
  },
  {
   "cell_type": "code",
   "execution_count": 110,
   "metadata": {},
   "outputs": [
    {
     "data": {
      "text/plain": [
       "array([[-1.22789067, -0.20356804,  0.29033015,  0.77487093,  1.58929885],\n",
       "       [-0.55911692, -0.17348966, -0.13878567,  0.09607579,  0.7645236 ]])"
      ]
     },
     "execution_count": 110,
     "metadata": {},
     "output_type": "execute_result"
    }
   ],
   "source": [
    "# axis=1\n",
    "arr = np.random.randn(2, 5)\n",
    "arr.sort(1)\n",
    "arr"
   ]
  },
  {
   "cell_type": "markdown",
   "metadata": {},
   "source": [
    "顶级方法np.sort返回的是数组的**已排序副本**，而**就地排序**则会修改数组本身。\n",
    "计算数组分位数最简单的办法是对其进行排序，然后选取特定位置的值："
   ]
  },
  {
   "cell_type": "code",
   "execution_count": 111,
   "metadata": {},
   "outputs": [
    {
     "data": {
      "text/plain": [
       "-1.5855832136168493"
      ]
     },
     "execution_count": 111,
     "metadata": {},
     "output_type": "execute_result"
    }
   ],
   "source": [
    "large_arr = np.random.randn(1000)\n",
    "\n",
    "large_arr.sort()\n",
    "large_arr[int(0.05 * len(large_arr))] # 5% quantile"
   ]
  },
  {
   "cell_type": "markdown",
   "metadata": {},
   "source": [
    "更多关于NumPy排序方法以及诸如**间接排序**之类的高级技术，请参阅附录A。\n",
    "在pandas中还可以找到一些其他跟排序有关的数据操作（比如根据一列或多列对表格型数据进行排序）。"
   ]
  },
  {
   "cell_type": "markdown",
   "metadata": {},
   "source": [
    "### 唯一化以及其它的集合逻辑\n",
    "NumPy提供了一些针对一维ndarray的**基本集合运算**。\n",
    "最常用的可能要数np.**unique**了，它用于找出数组中的唯一值并返回**已排序**的结果："
   ]
  },
  {
   "cell_type": "code",
   "execution_count": 112,
   "metadata": {},
   "outputs": [
    {
     "data": {
      "text/plain": [
       "array(['Bob', 'Joe', 'Will'], dtype='<U4')"
      ]
     },
     "execution_count": 112,
     "metadata": {},
     "output_type": "execute_result"
    }
   ],
   "source": [
    "names = np.array(['Bob', 'Joe', 'Will', 'Bob', 'Will', 'Joe', 'Joe'])\n",
    "\n",
    "np.unique(names)"
   ]
  },
  {
   "cell_type": "code",
   "execution_count": 114,
   "metadata": {},
   "outputs": [
    {
     "data": {
      "text/plain": [
       "array([1, 2, 3, 4])"
      ]
     },
     "execution_count": 114,
     "metadata": {},
     "output_type": "execute_result"
    }
   ],
   "source": [
    "ints = np.array([3, 3, 3, 2, 2, 1, 1, 4, 4])\n",
    "\n",
    "np.unique(ints)"
   ]
  },
  {
   "cell_type": "code",
   "execution_count": 115,
   "metadata": {},
   "outputs": [
    {
     "data": {
      "text/plain": [
       "array([3, 3, 3, 2, 2, 1, 1, 4, 4])"
      ]
     },
     "execution_count": 115,
     "metadata": {},
     "output_type": "execute_result"
    }
   ],
   "source": [
    "ints"
   ]
  },
  {
   "cell_type": "code",
   "execution_count": 116,
   "metadata": {},
   "outputs": [
    {
     "data": {
      "text/plain": [
       "['Bob', 'Joe', 'Will']"
      ]
     },
     "execution_count": 116,
     "metadata": {},
     "output_type": "execute_result"
    }
   ],
   "source": [
    "# pure python\n",
    "\n",
    "sorted(set(names))"
   ]
  },
  {
   "cell_type": "code",
   "execution_count": 117,
   "metadata": {},
   "outputs": [
    {
     "data": {
      "text/plain": [
       "array([ True, False, False,  True,  True, False,  True])"
      ]
     },
     "execution_count": 117,
     "metadata": {},
     "output_type": "execute_result"
    }
   ],
   "source": [
    "# np.in1d用于测试一个数组中的值在另一个数组中的成员资格，返回一个布尔型数组：\n",
    "\n",
    "values = np.array([6, 0, 0, 3, 2, 5, 6])\n",
    "\n",
    "np.in1d(values, [2, 3, 6])"
   ]
  },
  {
   "cell_type": "markdown",
   "metadata": {},
   "source": [
    "NumPy中的集合函数请参见下方。\n",
    "\n",
    "![集合](https://upload-images.jianshu.io/upload_images/7178691-80e85ae6b9c89ada.png?imageMogr2/auto-orient/strip%7CimageView2/2/w/700)"
   ]
  },
  {
   "cell_type": "markdown",
   "metadata": {},
   "source": [
    "## 4.4 用于数组的文件输入输出\n",
    "\n",
    "NumPy能够读写磁盘上的文本数据或二进制数据。这一小节只讨论NumPy的**内置二进制格式**，\n",
    "因为更多的用户会使用pandas或其它工具加载文本或表格数据（见第6章）。\n",
    "\n",
    "np.**save**和np.**load**是读写磁盘数组数据的两个主要函数。\n",
    "默认情况下，数组是以**未压缩的原始二进制格式**保存在扩展名为**.npy**的文件中的：\n"
   ]
  },
  {
   "cell_type": "code",
   "execution_count": 118,
   "metadata": {},
   "outputs": [],
   "source": [
    "arr = np.arange(10)\n",
    "\n",
    "np.save('some_array', arr)"
   ]
  },
  {
   "cell_type": "code",
   "execution_count": 119,
   "metadata": {},
   "outputs": [
    {
     "data": {
      "text/plain": [
       "array([0, 1, 2, 3, 4, 5, 6, 7, 8, 9])"
      ]
     },
     "execution_count": 119,
     "metadata": {},
     "output_type": "execute_result"
    }
   ],
   "source": [
    "np.load('some_array.npy')"
   ]
  },
  {
   "cell_type": "code",
   "execution_count": 120,
   "metadata": {},
   "outputs": [],
   "source": [
    "# 通过np.savez可以将多个数组保存到一个未压缩文件中，将数组以关键字参数的形式传入即可：\n",
    "\n",
    "np.savez('array_archive.npz', a=arr, b=arr)"
   ]
  },
  {
   "cell_type": "code",
   "execution_count": 121,
   "metadata": {},
   "outputs": [
    {
     "data": {
      "text/plain": [
       "array([0, 1, 2, 3, 4, 5, 6, 7, 8, 9])"
      ]
     },
     "execution_count": 121,
     "metadata": {},
     "output_type": "execute_result"
    }
   ],
   "source": [
    "arch = np.load('array_archive.npz')\n",
    "\n",
    "arch['a']"
   ]
  },
  {
   "cell_type": "code",
   "execution_count": 122,
   "metadata": {},
   "outputs": [],
   "source": [
    "# 如果数据压缩的很好，就可以使用numpy.savez_compressed：\n",
    "\n",
    "np.savez_compressed('arrays_compressed.npz', a=arr, b=arr)"
   ]
  },
  {
   "cell_type": "markdown",
   "metadata": {},
   "source": [
    "## 4.5 线性代数\n",
    "\n",
    "线性代数（如矩阵乘法、矩阵分解、行列式以及其他方阵数学等）是任何数组库的重要组成部分。\n",
    "不像某些语言（如MATLAB），通过*对两个二维数组相乘得到的是一个元素级的积，而不是一个矩阵点积。\n",
    "因此，NumPy提供了一个用于矩阵乘法的**dot**函数（既是一个数组方法也是numpy命名空间中的一个函数）：\n"
   ]
  },
  {
   "cell_type": "code",
   "execution_count": 125,
   "metadata": {},
   "outputs": [
    {
     "data": {
      "text/plain": [
       "array([[ 28.,  64.],\n",
       "       [ 67., 181.]])"
      ]
     },
     "execution_count": 125,
     "metadata": {},
     "output_type": "execute_result"
    }
   ],
   "source": [
    "x = np.array([[1., 2., 3.], [4., 5., 6.]])\n",
    "\n",
    "y = np.array([[6., 23.], [-1, 7], [8, 9]])\n",
    "# 2*2\n",
    "x.dot(y)"
   ]
  },
  {
   "cell_type": "code",
   "execution_count": 126,
   "metadata": {},
   "outputs": [
    {
     "data": {
      "text/plain": [
       "array([[ 28.,  64.],\n",
       "       [ 67., 181.]])"
      ]
     },
     "execution_count": 126,
     "metadata": {},
     "output_type": "execute_result"
    }
   ],
   "source": [
    "# x.dot(y)等价于np.dot(x, y)：\n",
    "\n",
    "np.dot(x, y)"
   ]
  },
  {
   "cell_type": "code",
   "execution_count": 128,
   "metadata": {},
   "outputs": [
    {
     "data": {
      "text/plain": [
       "array([ 6., 15.])"
      ]
     },
     "execution_count": 128,
     "metadata": {},
     "output_type": "execute_result"
    }
   ],
   "source": [
    "# 一个二维数组跟一个大小合适的一维数组的矩阵点积(a·b=a*b^T)运算之后将会得到一个一维数组：\n",
    "# 2*3 3*1\n",
    "np.dot(x, np.ones(3))"
   ]
  },
  {
   "cell_type": "code",
   "execution_count": 129,
   "metadata": {},
   "outputs": [
    {
     "data": {
      "text/plain": [
       "array([ 6., 15.])"
      ]
     },
     "execution_count": 129,
     "metadata": {},
     "output_type": "execute_result"
    }
   ],
   "source": [
    "# @符（类似Python 3.5）也可以用作中缀运算符，进行矩阵乘法\n",
    "x @ np.ones(3)"
   ]
  },
  {
   "cell_type": "markdown",
   "metadata": {},
   "source": [
    "**numpy.linalg**中有一组标准的矩阵分解运算以及诸如求逆和行列式之类的东西。\n",
    "它们跟MATLAB和R等语言所使用的是相同的行业标准线性代数库，\n",
    "如BLAS、LAPACK、Intel MKL（Math Kernel Library，可能有，取决于你的NumPy版本）等："
   ]
  },
  {
   "cell_type": "code",
   "execution_count": 130,
   "metadata": {},
   "outputs": [
    {
     "data": {
      "text/plain": [
       "array([[ 53.09082337, -39.65728139,  -6.66523164,  10.71732874,\n",
       "         29.16171143],\n",
       "       [-39.65728139,  31.36091117,   5.35532607,  -7.97896807,\n",
       "        -21.90503275],\n",
       "       [ -6.66523164,   5.35532607,   1.10478073,  -1.22029071,\n",
       "         -3.79489515],\n",
       "       [ 10.71732874,  -7.97896807,  -1.22029071,   2.51454742,\n",
       "          5.69826566],\n",
       "       [ 29.16171143, -21.90503275,  -3.79489515,   5.69826566,\n",
       "         16.27295275]])"
      ]
     },
     "execution_count": 130,
     "metadata": {},
     "output_type": "execute_result"
    }
   ],
   "source": [
    "from numpy.linalg import inv, qr\n",
    "\n",
    "X = np.random.randn(5, 5)\n",
    "\n",
    "mat = X.T.dot(X)\n",
    "# 逆\n",
    "inv(mat)"
   ]
  },
  {
   "cell_type": "markdown",
   "metadata": {},
   "source": [
    "**线性代数的函数**\n",
    "\n",
    "![](https://upload-images.jianshu.io/upload_images/7178691-dcdb66e49e5f70ea.png?imageMogr2/auto-orient/strip%7CimageView2/2/w/700)"
   ]
  },
  {
   "cell_type": "markdown",
   "metadata": {},
   "source": [
    "### 4.6 伪随机数生成\n",
    "\n",
    "numpy.random模块对Python内置的random进行了补充，增加了一些用于高效生成多种概率分布的样本值的函数。\n",
    "例如，你可以用normal来得到一个标准正态分布的4×4样本数组：\n",
    "\n"
   ]
  },
  {
   "cell_type": "code",
   "execution_count": 131,
   "metadata": {},
   "outputs": [
    {
     "data": {
      "text/plain": [
       "array([[ 1.0465013 ,  0.52297984,  2.06031528, -0.14315236],\n",
       "       [-0.43201081,  0.01572281, -0.95429011, -1.5270959 ],\n",
       "       [-0.692581  , -0.87584442, -1.73657174, -1.03147538],\n",
       "       [ 0.36956486,  0.26904392,  2.85562641, -1.00050471]])"
      ]
     },
     "execution_count": 131,
     "metadata": {},
     "output_type": "execute_result"
    }
   ],
   "source": [
    "samples = np.random.normal(size=(4, 4))\n",
    "\n",
    "samples"
   ]
  },
  {
   "cell_type": "markdown",
   "metadata": {},
   "source": [
    "而Python内置的random模块则只能一次生成一个样本值。\n",
    "从下面的测试结果中可以看出，如果需要产生大量样本值，numpy.random快了不止一个数量级："
   ]
  },
  {
   "cell_type": "code",
   "execution_count": 132,
   "metadata": {},
   "outputs": [
    {
     "name": "stdout",
     "output_type": "stream",
     "text": [
      "761 ms ± 14.3 ms per loop (mean ± std. dev. of 7 runs, 1 loop each)\n"
     ]
    }
   ],
   "source": [
    "from random import normalvariate\n",
    "\n",
    "N = 1000000\n",
    "\n",
    "%timeit samples = [normalvariate(0, 1) for _ in range(N)]"
   ]
  },
  {
   "cell_type": "code",
   "execution_count": 133,
   "metadata": {},
   "outputs": [
    {
     "name": "stdout",
     "output_type": "stream",
     "text": [
      "29.4 ms ± 457 µs per loop (mean ± std. dev. of 7 runs, 10 loops each)\n"
     ]
    }
   ],
   "source": [
    "%timeit np.random.normal(size=N)"
   ]
  },
  {
   "cell_type": "markdown",
   "metadata": {},
   "source": [
    "我们说这些都是伪随机数，是因为它们都是通过算法基于随机数生成器种子，在确定性的条件下生成的。\n",
    "你可以用NumPy的np.random.**seed**更改随机数生成种子："
   ]
  },
  {
   "cell_type": "code",
   "execution_count": 2,
   "metadata": {},
   "outputs": [
    {
     "data": {
      "text/plain": [
       "array([ 0.47143516, -1.19097569,  1.43270697, -0.3126519 , -0.72058873,\n",
       "        0.88716294,  0.85958841, -0.6365235 ,  0.01569637, -2.24268495])"
      ]
     },
     "execution_count": 2,
     "metadata": {},
     "output_type": "execute_result"
    }
   ],
   "source": [
    "import numpy as np\n",
    "np.random.seed(1234)\n",
    "\n",
    "# numpy.random的数据生成函数使用了全局的随机种子。\n",
    "# 要避免全局状态，你可以使用numpy.random.RandomState，创建一个与其它隔离的随机数生成器：\n",
    "rng = np.random.RandomState(1234)\n",
    "rng.randn(10)"
   ]
  },
  {
   "cell_type": "markdown",
   "metadata": {},
   "source": [
    "表4-8列出了numpy.**random**中的部分函数。\n",
    "在下一节中，我将给出一些利用这些函数一次性生成大量样本值的范例。\n",
    "\n",
    "![](https://upload-images.jianshu.io/upload_images/7178691-97ba09c96dab93a2.png?imageMogr2/auto-orient/strip%7CimageView2/2/w/700)\n",
    "![](https://upload-images.jianshu.io/upload_images/7178691-6ed04fae3d1178e2.png?imageMogr2/auto-orient/strip%7CimageView2/2/w/700)"
   ]
  },
  {
   "cell_type": "markdown",
   "metadata": {},
   "source": [
    "### 4.7 示例：随机漫步 (random walk)\n",
    "\n",
    "我们通过模拟随机漫步来说明**如何运用数组运算**。\n",
    "先来看一个简单的随机漫步的例子：从0开始，步长1和－1出现的概率相等。\n",
    "\n",
    "下面是一个通过内置的random模块以纯Python的方式实现1000步的随机漫步："
   ]
  },
  {
   "cell_type": "code",
   "execution_count": 5,
   "metadata": {},
   "outputs": [
    {
     "data": {
      "image/png": "[encoded data removed]",
      "text/plain": [
       "<matplotlib.figure.Figure at 0x1dcaed32b38>"
      ]
     },
     "metadata": {},
     "output_type": "display_data"
    }
   ],
   "source": [
    "import random\n",
    "   .....: position = 0\n",
    "   .....: walk = [position]\n",
    "   .....: steps = 1000\n",
    "   .....: for i in range(steps):\n",
    "   .....:     step = 1 if random.randint(0, 1) else -1\n",
    "   .....:     position += step\n",
    "   .....:     walk.append(position)\n",
    "   .....:\n",
    "#\n",
    "import matplotlib.pyplot as plt\n",
    "plt.plot(walk[:100])\n",
    "plt.show()"
   ]
  },
  {
   "cell_type": "markdown",
   "metadata": {},
   "source": [
    "这其实就是随机漫步中各步的累计和，可以用一个数组运算来实现。\n",
    "因此，我用np.random模块一次性随机产生1000个“掷硬币”结果（即两个数中任选一个），\n",
    "将其分别设置为1或－1，然后计算累计和："
   ]
  },
  {
   "cell_type": "code",
   "execution_count": 10,
   "metadata": {},
   "outputs": [
    {
     "name": "stdout",
     "output_type": "stream",
     "text": [
      "[ -1  -2  -3  -2  -1  -2  -3  -2  -1   0   1   0   1   0  -1  -2  -3  -2\n",
      "  -3  -4  -5  -6  -7  -8  -7  -8  -7  -6  -7  -8  -7  -6  -7  -8  -7  -8\n",
      "  -9 -10 -11 -12 -13 -12 -11 -12 -13 -12 -11 -12 -11 -12 -13 -14 -15 -14\n",
      " -13 -14 -13 -12 -11 -12 -11 -12 -11 -12 -13 -14 -15 -14 -13 -14 -13 -12\n",
      " -13 -12 -11 -10 -11 -10  -9  -8  -7  -8  -7  -6  -7  -6  -7  -8  -9  -8\n",
      "  -7  -8  -9  -8  -7  -6  -7  -6  -7  -6  -7  -8  -7  -6  -7  -6  -7  -8\n",
      "  -7  -8  -7  -8  -7  -6  -7  -6  -5  -6  -5  -6  -7  -8  -9 -10  -9 -10\n",
      "  -9 -10  -9 -10  -9  -8  -9 -10 -11 -10 -11 -10 -11 -10  -9 -10  -9  -8\n",
      "  -9 -10 -11 -10 -11 -10 -11 -12 -11 -10 -11 -12 -11 -12 -13 -14 -15 -16\n",
      " -17 -18 -17 -16 -17 -18 -19 -20 -21 -20 -21 -22 -23 -24 -23 -24 -23 -22\n",
      " -21 -20 -21 -22 -21 -22 -23 -22 -21 -22 -23 -22 -23 -22 -23 -22 -21 -22\n",
      " -23 -22 -21 -22 -21 -22 -21 -20 -21 -20 -19 -20 -21 -20 -21 -20 -21 -20\n",
      " -21 -22 -21 -22 -21 -22 -21 -22 -21 -20 -19 -20 -19 -20 -19 -20 -19 -20\n",
      " -19 -18 -17 -16 -17 -18 -19 -20 -21 -20 -19 -18 -19 -18 -17 -18 -19 -18\n",
      " -17 -16 -15 -14 -15 -14 -15 -16 -15 -14 -15 -16 -17 -16 -17 -16 -15 -16\n",
      " -15 -16 -17 -18 -19 -20 -21 -20 -19 -20 -21 -20 -21 -22 -23 -24 -25 -26\n",
      " -25 -26 -27 -26 -27 -28 -29 -28 -29 -28 -27 -28 -29 -30 -29 -30 -31 -30\n",
      " -31 -30 -29 -30 -31 -30 -31 -32 -33 -34 -35 -34 -35 -34 -33 -34 -33 -34\n",
      " -33 -32 -31 -32 -31 -30 -31 -32 -33 -32 -31 -32 -33 -32 -31 -30 -29 -30\n",
      " -31 -30 -29 -28 -29 -28 -29 -28 -29 -28 -27 -26 -25 -26 -25 -26 -25 -26\n",
      " -25 -24 -25 -26 -27 -28 -29 -30 -31 -30 -29 -30 -31 -30 -29 -28 -27 -28\n",
      " -27 -28 -27 -26 -25 -24 -23 -22 -21 -22 -23 -22 -21 -20 -19 -18 -19 -20\n",
      " -19 -18 -17 -16 -15 -16 -15 -16 -17 -18 -17 -16 -17 -16 -15 -16 -15 -14\n",
      " -15 -14 -15 -16 -15 -16 -15 -16 -17 -18 -19 -18 -17 -18 -17 -18 -17 -16\n",
      " -15 -16 -17 -16 -15 -14 -15 -14 -13 -14 -13 -12 -13 -12 -13 -12 -13 -14\n",
      " -15 -14 -15 -14 -13 -12 -11 -12 -11 -10 -11 -12 -13 -14 -13 -14 -15 -14\n",
      " -13 -14 -15 -14 -15 -16 -17 -18 -17 -16 -17 -16 -15 -14 -15 -14 -13 -12\n",
      " -11 -10  -9 -10  -9  -8  -9  -8  -7  -8  -7  -6  -7  -8  -7  -8  -7  -8\n",
      "  -9 -10 -11 -10 -11 -10 -11 -12 -13 -14 -13 -14 -15 -16 -15 -14 -15 -14\n",
      " -13 -12 -11 -12 -13 -14 -13 -12 -13 -14 -15 -14 -13 -12 -11 -10 -11 -12\n",
      " -11 -12 -13 -12 -13 -14 -13 -14 -13 -14 -13 -14 -13 -12 -13 -14 -15 -14\n",
      " -13 -12 -13 -14 -15 -14 -15 -14 -13 -14 -15 -16 -17 -16 -15 -16 -15 -16\n",
      " -15 -16 -15 -14 -15 -16 -15 -14 -15 -14 -15 -16 -15 -14 -15 -16 -15 -14\n",
      " -13 -12 -11 -10  -9 -10 -11 -10  -9  -8  -9 -10  -9  -8  -9  -8  -9  -8\n",
      "  -9  -8  -9  -8  -7  -8  -7  -8  -9  -8  -7  -6  -5  -4  -3  -4  -3  -4\n",
      "  -5  -6  -7  -6  -5  -6  -5  -6  -5  -6  -5  -6  -5  -6  -5  -4  -3  -4\n",
      "  -5  -6  -7  -6  -5  -4  -3  -4  -3  -4  -5  -4  -3  -4  -3  -4  -3  -4\n",
      "  -5  -4  -3  -4  -3  -4  -3  -2  -3  -4  -3  -2  -1   0   1   0   1   2\n",
      "   1   0   1   2   1   0  -1  -2  -3  -2  -1  -2  -3  -4  -3  -2  -3  -4\n",
      "  -3  -2  -1  -2  -1  -2  -1   0   1   2   1   2   1   0  -1  -2  -3  -2\n",
      "  -1  -2  -3  -2  -1   0   1   0   1   2   1   2   3   2   1   0  -1  -2\n",
      "  -1   0   1   0   1   0   1   0   1   0  -1   0  -1   0  -1   0   1   0\n",
      "   1   2   1   0   1   2   1   2   3   4   5   4   3   4   5   6   5   4\n",
      "   5   4   5   4   3   2   1   2   3   4   5   4   3   4   5   4   3   2\n",
      "   3   4   3   2   3   4   5   4   3   4   5   6   7   8   9  10  11  12\n",
      "  13  14  15  16  17  18  17  16  15  14  13  14  13  12  13  12  11  10\n",
      "   9  10   9   8   9   8   7   8   7   8   9  10  11  10   9   8   9   8\n",
      "   7   6   7   6   5   4   3   2   3   2   3   2   1   0  -1   0   1   2\n",
      "   3   2   3   4   3   2   3   2   1   0  -1   0  -1  -2  -3  -4  -5  -6\n",
      "  -5  -4  -3  -4  -5  -6  -7  -8  -9 -10 -11 -12 -13 -14 -15 -16 -17 -16\n",
      " -17 -16 -17 -16 -15 -16 -15 -14 -13 -12 -13 -12 -11 -10  -9  -8  -7  -6\n",
      "  -5  -4  -5  -6  -7  -8  -9  -8  -9 -10 -11 -12 -13 -14 -15 -14 -13 -12\n",
      " -13 -12 -11 -12 -11 -10 -11 -10  -9  -8  -9 -10 -11 -10 -11 -10 -11 -10\n",
      "  -9 -10 -11 -12 -11 -12 -13 -12 -13 -14 -15 -16 -15 -14 -15 -14 -13 -14\n",
      " -15 -14 -15 -16 -15 -14 -13 -12 -11 -12 -13 -12 -11 -12 -11 -12 -11 -10\n",
      " -11 -10 -11 -12 -13 -14 -13 -12 -13 -12]\n"
     ]
    },
    {
     "data": {
      "text/plain": [
       "18"
      ]
     },
     "execution_count": 10,
     "metadata": {},
     "output_type": "execute_result"
    }
   ],
   "source": [
    "nsteps = 1000\n",
    "# [1,0,1,1,0...]\n",
    "draws = np.random.randint(0, 2, size=nsteps)\n",
    "# print(draws)\n",
    "steps = np.where(draws > 0, 1, -1)\n",
    "\n",
    "walk = steps.cumsum()\n",
    "\n",
    "# 有了这些数据之后，我们就可以沿着漫步路径做一些统计工作了，比如求取最大值和最小值：\n",
    "print(walk)\n",
    "walk.min()\n",
    "walk.max()\n"
   ]
  },
  {
   "cell_type": "markdown",
   "metadata": {},
   "source": [
    "现在来看一个复杂点的统计任务——首次穿越时间，即随机漫步过程中第一次到达某个特定值的时间。\n",
    "假设我们想要知道本次随机漫步需要多久才能距离初始0点至少10步远（任一方向均可）。\n",
    "**np.abs(walk)>=10**可以得到一个**布尔型**数组，它表示的是距离是否达到或超过10，而我们想要知道的是第一个10或－10的索引。\n",
    "\n",
    "可以用argmax来解决这个问题，它返回的是该布尔型数组第一个最大值的索引（True就是最大值）：\n"
   ]
  },
  {
   "cell_type": "code",
   "execution_count": 13,
   "metadata": {},
   "outputs": [
    {
     "data": {
      "text/plain": [
       "37"
      ]
     },
     "execution_count": 13,
     "metadata": {},
     "output_type": "execute_result"
    }
   ],
   "source": [
    "(np.abs(walk) >= 10).argmax()\n",
    "# 注意，这里使用argmax并不是很高效，因为它无论如何都会对数组进行完全扫描。\n",
    "# 在本例中，只要发现了一个True，那我们就知道它是个最大值了。"
   ]
  },
  {
   "cell_type": "markdown",
   "metadata": {},
   "source": [
    "### 一次模拟多个随机漫步\n",
    "\n",
    "如果你希望模拟多个随机漫步过程（比如5000个），只需对上面的代码做一点点修改即可生成所有的随机漫步过程。\n",
    "只要给numpy.random的函数传入一个**二元元组**就可以产生一个**二维数组**，\n",
    "然后我们就可以一次性计算5000个随机漫步过程（一行一个）的累计和了："
   ]
  },
  {
   "cell_type": "code",
   "execution_count": 14,
   "metadata": {},
   "outputs": [
    {
     "data": {
      "text/plain": [
       "array([[  1,   0,   1, ...,  46,  45,  44],\n",
       "       [  1,   0,  -1, ...,   6,   7,   8],\n",
       "       [ -1,  -2,  -3, ..., -56, -55, -54],\n",
       "       ...,\n",
       "       [ -1,  -2,  -1, ..., -18, -19, -18],\n",
       "       [  1,   0,  -1, ...,  24,  23,  22],\n",
       "       [ -1,   0,   1, ...,  14,  15,  16]], dtype=int32)"
      ]
     },
     "execution_count": 14,
     "metadata": {},
     "output_type": "execute_result"
    }
   ],
   "source": [
    "nwalks = 5000\n",
    "\n",
    "nsteps = 1000\n",
    "\n",
    "draws = np.random.randint(0, 2, size=(nwalks, nsteps)) # 0 or 1\n",
    "\n",
    "steps = np.where(draws > 0, 1, -1)\n",
    "# row 1\n",
    "walks = steps.cumsum(1)\n",
    "# 5000 * 1000\n",
    "walks"
   ]
  },
  {
   "cell_type": "code",
   "execution_count": 15,
   "metadata": {},
   "outputs": [
    {
     "data": {
      "text/plain": [
       "122"
      ]
     },
     "execution_count": 15,
     "metadata": {},
     "output_type": "execute_result"
    }
   ],
   "source": [
    "walks.max()"
   ]
  },
  {
   "cell_type": "code",
   "execution_count": 16,
   "metadata": {},
   "outputs": [
    {
     "data": {
      "text/plain": [
       "3367"
      ]
     },
     "execution_count": 16,
     "metadata": {},
     "output_type": "execute_result"
    }
   ],
   "source": [
    "# 我们来计算30或－30的最小穿越时间。这里稍微复杂些，\n",
    "# 因为不是5000个过程都到达了30。我们可以用any方法来对此进行检查：\n",
    "\n",
    "hits30 = (np.abs(walks) >= 30).any(1)\n",
    "\n",
    "hits30\n",
    "\n",
    "hits30.sum() # Number that hit 30 or -30"
   ]
  },
  {
   "cell_type": "code",
   "execution_count": 17,
   "metadata": {},
   "outputs": [
    {
     "data": {
      "text/plain": [
       "510.44817344817346"
      ]
     },
     "execution_count": 17,
     "metadata": {},
     "output_type": "execute_result"
    }
   ],
   "source": [
    "# 然后我们利用这个布尔型数组选出那些穿越了30（绝对值）的随机漫步（行），\n",
    "# 并调用argmax在轴1上获取穿越时间：\n",
    "crossing_times = (np.abs(walks[hits30]) >= 30).argmax(1)\n",
    "\n",
    "crossing_times.mean()"
   ]
  },
  {
   "cell_type": "markdown",
   "metadata": {},
   "source": [
    "先看伟大的高斯分布（Gaussian Distribution）的概率密度函数（probability density function）：\n",
    "\n",
    "$$ f(x)=\\frac1{\\sqrt{2\\pi}\\sigma}\\exp(-\\frac{(x-\\mu)^2}{2\\sigma^2}) $$\n",
    "\n",
    "loc：float\n",
    "    此概率分布的均值（对应着整个分布的中心centre）\n",
    "scale：float\n",
    "    此概率分布的标准差（对应于分布的宽度，scale越大越矮胖，scale越小，越瘦高）\n",
    "size：int or tuple of ints\n",
    "    输出的shape，默认为None，只输出一个值"
   ]
  },
  {
   "cell_type": "code",
   "execution_count": null,
   "metadata": {},
   "outputs": [],
   "source": [
    "# 请尝试用其他分布方式得到漫步数据。\n",
    "# 只需使用不同的随机数生成函数即可，如normal用于生成指定均值和标准差的正态分布数据：\n",
    "\n",
    "steps = np.random.normal(loc=0, scale=0.25, size=(nwalks, nsteps))\n"
   ]
  },
  {
   "cell_type": "markdown",
   "metadata": {},
   "source": [
    "## Skills\n",
    "* 将notebook文件上传至github\n",
    "* 在github中打开文件. 复制地址. 打开jupyter nbviever网址, 产生新的网址\n",
    "* 在markdown模式下用下列代码嵌入jupyter notebook: \n",
    "* <iframe src=\"jupyter nbviewer new addr\" width=\"850\" height=\"2000\"></iframe> "
   ]
  }
 ],
 "metadata": {
  "kernelspec": {
   "display_name": "Python 3",
   "language": "python",
   "name": "python3"
  },
  "language_info": {
   "codemirror_mode": {
    "name": "ipython",
    "version": 3
   },
   "file_extension": ".py",
   "mimetype": "text/x-python",
   "name": "python",
   "nbconvert_exporter": "python",
   "pygments_lexer": "ipython3",
   "version": "3.6.4"
  }
 },
 "nbformat": 4,
 "nbformat_minor": 2
}
